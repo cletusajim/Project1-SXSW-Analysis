{
 "cells": [
  {
   "cell_type": "code",
   "execution_count": 1,
   "metadata": {},
   "outputs": [],
   "source": [
    "#import depndencies\n",
    "\n",
    "#import requests\n",
    "#from pprint import pprint\n",
    "#import calendar as cd\n",
    "import pandas as pd\n",
    "import numpy as np\n",
    "from matplotlib import pyplot as plt\n",
    "from datetime import datetime as dt"
   ]
  },
  {
   "cell_type": "code",
   "execution_count": 2,
   "metadata": {},
   "outputs": [],
   "source": [
    "#url = \"https://data.austintexas.gov/api/views/3t4q-mqs5/rows.json?\"\n",
    "#crime_response = requests.get(url)\n",
    "#crime_json = crime_response.json()\n",
    "#crime_json[\"meta\"][\"view\"]\n",
    "#crime_json"
   ]
  },
  {
   "cell_type": "code",
   "execution_count": 3,
   "metadata": {},
   "outputs": [],
   "source": [
    "crimedata_2017 = pd.read_csv(\"2017_Annual_Crime.csv\")"
   ]
  },
  {
   "cell_type": "code",
   "execution_count": 4,
   "metadata": {},
   "outputs": [],
   "source": [
    "cleaned_crimedata_2017_df = crimedata_2017[[\"Council District\", \"Highest NIBRS/UCR Offense Description\", \n",
    "                              \"GO Report Date\",\"GO Location Zip\"]]"
   ]
  },
  {
   "cell_type": "code",
   "execution_count": 5,
   "metadata": {},
   "outputs": [
    {
     "data": {
      "text/plain": [
       "Council District                         34844\n",
       "Highest NIBRS/UCR Offense Description    35097\n",
       "GO Report Date                           35097\n",
       "GO Location Zip                          34982\n",
       "dtype: int64"
      ]
     },
     "execution_count": 5,
     "metadata": {},
     "output_type": "execute_result"
    }
   ],
   "source": [
    "cleaned_crimedata_2017_df.count()"
   ]
  },
  {
   "cell_type": "code",
   "execution_count": 6,
   "metadata": {},
   "outputs": [
    {
     "data": {
      "text/plain": [
       "Council District                         34844\n",
       "Highest NIBRS/UCR Offense Description    34844\n",
       "GO Report Date                           34844\n",
       "GO Location Zip                          34844\n",
       "dtype: int64"
      ]
     },
     "execution_count": 6,
     "metadata": {},
     "output_type": "execute_result"
    }
   ],
   "source": [
    "cleaned_crimedata_2017_df = cleaned_crimedata_2017_df.dropna(how='any')\n",
    "\n",
    "cleaned_crimedata_2017_df.count()"
   ]
  },
  {
   "cell_type": "code",
   "execution_count": 7,
   "metadata": {},
   "outputs": [
    {
     "data": {
      "text/html": [
       "<div>\n",
       "<style scoped>\n",
       "    .dataframe tbody tr th:only-of-type {\n",
       "        vertical-align: middle;\n",
       "    }\n",
       "\n",
       "    .dataframe tbody tr th {\n",
       "        vertical-align: top;\n",
       "    }\n",
       "\n",
       "    .dataframe thead th {\n",
       "        text-align: right;\n",
       "    }\n",
       "</style>\n",
       "<table border=\"1\" class=\"dataframe\">\n",
       "  <thead>\n",
       "    <tr style=\"text-align: right;\">\n",
       "      <th></th>\n",
       "      <th>Council District</th>\n",
       "      <th>Highest NIBRS/UCR Offense Description</th>\n",
       "      <th>GO Report Date</th>\n",
       "      <th>GO Location Zip</th>\n",
       "    </tr>\n",
       "  </thead>\n",
       "  <tbody>\n",
       "    <tr>\n",
       "      <th>0</th>\n",
       "      <td>1.0</td>\n",
       "      <td>Auto Theft</td>\n",
       "      <td>3-Feb-17</td>\n",
       "      <td>78724.0</td>\n",
       "    </tr>\n",
       "    <tr>\n",
       "      <th>1</th>\n",
       "      <td>9.0</td>\n",
       "      <td>Agg Assault</td>\n",
       "      <td>25-Feb-17</td>\n",
       "      <td>78701.0</td>\n",
       "    </tr>\n",
       "    <tr>\n",
       "      <th>2</th>\n",
       "      <td>7.0</td>\n",
       "      <td>Theft</td>\n",
       "      <td>12-Feb-17</td>\n",
       "      <td>78753.0</td>\n",
       "    </tr>\n",
       "    <tr>\n",
       "      <th>3</th>\n",
       "      <td>4.0</td>\n",
       "      <td>Theft</td>\n",
       "      <td>22-Feb-17</td>\n",
       "      <td>78753.0</td>\n",
       "    </tr>\n",
       "    <tr>\n",
       "      <th>4</th>\n",
       "      <td>2.0</td>\n",
       "      <td>Theft</td>\n",
       "      <td>8-Mar-17</td>\n",
       "      <td>78744.0</td>\n",
       "    </tr>\n",
       "  </tbody>\n",
       "</table>\n",
       "</div>"
      ],
      "text/plain": [
       "   Council District Highest NIBRS/UCR Offense Description GO Report Date  \\\n",
       "0               1.0                            Auto Theft       3-Feb-17   \n",
       "1               9.0                           Agg Assault      25-Feb-17   \n",
       "2               7.0                                 Theft      12-Feb-17   \n",
       "3               4.0                                 Theft      22-Feb-17   \n",
       "4               2.0                                 Theft       8-Mar-17   \n",
       "\n",
       "   GO Location Zip  \n",
       "0          78724.0  \n",
       "1          78701.0  \n",
       "2          78753.0  \n",
       "3          78753.0  \n",
       "4          78744.0  "
      ]
     },
     "execution_count": 7,
     "metadata": {},
     "output_type": "execute_result"
    }
   ],
   "source": [
    "cleaned_crimedata_2017_df.head()"
   ]
  },
  {
   "cell_type": "code",
   "execution_count": 8,
   "metadata": {},
   "outputs": [
    {
     "data": {
      "text/html": [
       "<div>\n",
       "<style scoped>\n",
       "    .dataframe tbody tr th:only-of-type {\n",
       "        vertical-align: middle;\n",
       "    }\n",
       "\n",
       "    .dataframe tbody tr th {\n",
       "        vertical-align: top;\n",
       "    }\n",
       "\n",
       "    .dataframe thead th {\n",
       "        text-align: right;\n",
       "    }\n",
       "</style>\n",
       "<table border=\"1\" class=\"dataframe\">\n",
       "  <thead>\n",
       "    <tr style=\"text-align: right;\">\n",
       "      <th></th>\n",
       "      <th>District</th>\n",
       "      <th>Offense</th>\n",
       "      <th>Report Date</th>\n",
       "      <th>Zip Code</th>\n",
       "    </tr>\n",
       "  </thead>\n",
       "  <tbody>\n",
       "    <tr>\n",
       "      <th>0</th>\n",
       "      <td>1.0</td>\n",
       "      <td>Auto Theft</td>\n",
       "      <td>3-Feb-17</td>\n",
       "      <td>78724.0</td>\n",
       "    </tr>\n",
       "    <tr>\n",
       "      <th>1</th>\n",
       "      <td>9.0</td>\n",
       "      <td>Agg Assault</td>\n",
       "      <td>25-Feb-17</td>\n",
       "      <td>78701.0</td>\n",
       "    </tr>\n",
       "    <tr>\n",
       "      <th>2</th>\n",
       "      <td>7.0</td>\n",
       "      <td>Theft</td>\n",
       "      <td>12-Feb-17</td>\n",
       "      <td>78753.0</td>\n",
       "    </tr>\n",
       "    <tr>\n",
       "      <th>3</th>\n",
       "      <td>4.0</td>\n",
       "      <td>Theft</td>\n",
       "      <td>22-Feb-17</td>\n",
       "      <td>78753.0</td>\n",
       "    </tr>\n",
       "    <tr>\n",
       "      <th>4</th>\n",
       "      <td>2.0</td>\n",
       "      <td>Theft</td>\n",
       "      <td>8-Mar-17</td>\n",
       "      <td>78744.0</td>\n",
       "    </tr>\n",
       "  </tbody>\n",
       "</table>\n",
       "</div>"
      ],
      "text/plain": [
       "   District      Offense Report Date  Zip Code\n",
       "0       1.0   Auto Theft    3-Feb-17   78724.0\n",
       "1       9.0  Agg Assault   25-Feb-17   78701.0\n",
       "2       7.0        Theft   12-Feb-17   78753.0\n",
       "3       4.0        Theft   22-Feb-17   78753.0\n",
       "4       2.0        Theft    8-Mar-17   78744.0"
      ]
     },
     "execution_count": 8,
     "metadata": {},
     "output_type": "execute_result"
    }
   ],
   "source": [
    "cleaned_crimedata_2017_df = cleaned_crimedata_2017_df.rename(columns={\"Council District\" : \"District\", \n",
    "                                   \"Highest NIBRS/UCR Offense Description\":\"Offense\",\n",
    "                                   \"GO Report Date\": \"Report Date\",\n",
    "                                   \"GO Location Zip\":\"Zip Code\"})\n",
    "\n",
    "cleaned_crimedata_2017_df.head()"
   ]
  },
  {
   "cell_type": "code",
   "execution_count": 9,
   "metadata": {},
   "outputs": [
    {
     "data": {
      "text/html": [
       "<div>\n",
       "<style scoped>\n",
       "    .dataframe tbody tr th:only-of-type {\n",
       "        vertical-align: middle;\n",
       "    }\n",
       "\n",
       "    .dataframe tbody tr th {\n",
       "        vertical-align: top;\n",
       "    }\n",
       "\n",
       "    .dataframe thead th {\n",
       "        text-align: right;\n",
       "    }\n",
       "</style>\n",
       "<table border=\"1\" class=\"dataframe\">\n",
       "  <thead>\n",
       "    <tr style=\"text-align: right;\">\n",
       "      <th></th>\n",
       "      <th>District</th>\n",
       "      <th>Offense</th>\n",
       "      <th>Report Date</th>\n",
       "      <th>Zip Code</th>\n",
       "      <th>report date - converted</th>\n",
       "      <th>Month Number</th>\n",
       "      <th>Week #</th>\n",
       "    </tr>\n",
       "  </thead>\n",
       "  <tbody>\n",
       "    <tr>\n",
       "      <th>0</th>\n",
       "      <td>1.0</td>\n",
       "      <td>Auto Theft</td>\n",
       "      <td>3-Feb-17</td>\n",
       "      <td>78724.0</td>\n",
       "      <td>2017-02-03</td>\n",
       "      <td>2</td>\n",
       "      <td>5</td>\n",
       "    </tr>\n",
       "    <tr>\n",
       "      <th>1</th>\n",
       "      <td>9.0</td>\n",
       "      <td>Agg Assault</td>\n",
       "      <td>25-Feb-17</td>\n",
       "      <td>78701.0</td>\n",
       "      <td>2017-02-25</td>\n",
       "      <td>2</td>\n",
       "      <td>8</td>\n",
       "    </tr>\n",
       "    <tr>\n",
       "      <th>2</th>\n",
       "      <td>7.0</td>\n",
       "      <td>Theft</td>\n",
       "      <td>12-Feb-17</td>\n",
       "      <td>78753.0</td>\n",
       "      <td>2017-02-12</td>\n",
       "      <td>2</td>\n",
       "      <td>6</td>\n",
       "    </tr>\n",
       "    <tr>\n",
       "      <th>3</th>\n",
       "      <td>4.0</td>\n",
       "      <td>Theft</td>\n",
       "      <td>22-Feb-17</td>\n",
       "      <td>78753.0</td>\n",
       "      <td>2017-02-22</td>\n",
       "      <td>2</td>\n",
       "      <td>8</td>\n",
       "    </tr>\n",
       "    <tr>\n",
       "      <th>4</th>\n",
       "      <td>2.0</td>\n",
       "      <td>Theft</td>\n",
       "      <td>8-Mar-17</td>\n",
       "      <td>78744.0</td>\n",
       "      <td>2017-03-08</td>\n",
       "      <td>3</td>\n",
       "      <td>10</td>\n",
       "    </tr>\n",
       "  </tbody>\n",
       "</table>\n",
       "</div>"
      ],
      "text/plain": [
       "   District      Offense Report Date  Zip Code report date - converted  \\\n",
       "0       1.0   Auto Theft    3-Feb-17   78724.0              2017-02-03   \n",
       "1       9.0  Agg Assault   25-Feb-17   78701.0              2017-02-25   \n",
       "2       7.0        Theft   12-Feb-17   78753.0              2017-02-12   \n",
       "3       4.0        Theft   22-Feb-17   78753.0              2017-02-22   \n",
       "4       2.0        Theft    8-Mar-17   78744.0              2017-03-08   \n",
       "\n",
       "   Month Number  Week #  \n",
       "0             2       5  \n",
       "1             2       8  \n",
       "2             2       6  \n",
       "3             2       8  \n",
       "4             3      10  "
      ]
     },
     "execution_count": 9,
     "metadata": {},
     "output_type": "execute_result"
    }
   ],
   "source": [
    "cleaned_crimedata_2017_df[\"report date - converted\"] = pd.to_datetime(cleaned_crimedata_2017_df[\"Report Date\"])\n",
    "cleaned_crimedata_2017_df.head()\n",
    "\n",
    "cleaned_crimedata_2017_df[\"Month Number\"] = cleaned_crimedata_2017_df[\"report date - converted\"].dt.month\n",
    "cleaned_crimedata_2017_df.head()\n",
    "#strftime()\n",
    "#cleaned_crimedata_2017_df[\"Year\"] = cleaned_crimedata_2017_df[\"report date - converted\"].dt.year\n",
    "#cleaned_crimedata_2017_df.head()\n",
    "\n",
    "#cleaned_crimedata_2017_df[\"Month Name\"] = cd.month_name[cleaned_crimedata_2017_df[\"Month Number\"]]\n",
    "#(calendar.month_name[month_idx])\n",
    "\n",
    "cleaned_crimedata_2017_df[\"Week #\"] = cleaned_crimedata_2017_df[\"report date - converted\"].dt.week\n",
    "cleaned_crimedata_2017_df.head()\n"
   ]
  },
  {
   "cell_type": "code",
   "execution_count": 10,
   "metadata": {},
   "outputs": [
    {
     "data": {
      "text/plain": [
       "Theft          24455\n",
       "Burglary        4311\n",
       "Agg Assault     2304\n",
       "Auto Theft      2000\n",
       "Robbery          976\n",
       "Rape             773\n",
       "Murder            25\n",
       "Name: Offense, dtype: int64"
      ]
     },
     "execution_count": 10,
     "metadata": {},
     "output_type": "execute_result"
    }
   ],
   "source": [
    "cleaned_crimedata_2017_df[\"Offense\"].value_counts()\n",
    "\n",
    "#cleaned_crimedata_2017_df = cleaned_crimedata_2017_df.replace({})"
   ]
  },
  {
   "cell_type": "code",
   "execution_count": 11,
   "metadata": {},
   "outputs": [
    {
     "data": {
      "text/plain": [
       "Theft          26455\n",
       "Burglary        4311\n",
       "Agg Assault     2304\n",
       "Robbery          976\n",
       "Rape             773\n",
       "Murder            25\n",
       "Name: Offense, dtype: int64"
      ]
     },
     "execution_count": 11,
     "metadata": {},
     "output_type": "execute_result"
    }
   ],
   "source": [
    "cleaned_crimedata_2017_df = cleaned_crimedata_2017_df.replace({\"Auto Theft\":\"Theft\"})\n",
    "\n",
    "cleaned_crimedata_2017_df[\"Offense\"].value_counts()"
   ]
  },
  {
   "cell_type": "code",
   "execution_count": 24,
   "metadata": {},
   "outputs": [
    {
     "name": "stderr",
     "output_type": "stream",
     "text": [
      "C:\\ProgramData\\Anaconda3\\lib\\site-packages\\ipykernel_launcher.py:1: FutureWarning: Interpreting tuple 'by' as a list of keys, rather than a single key. Use 'by=[...]' instead of 'by=(...)'. In the future, a tuple will always mean a single key.\n",
      "  \"\"\"Entry point for launching an IPython kernel.\n"
     ]
    },
    {
     "data": {
      "text/html": [
       "<div>\n",
       "<style scoped>\n",
       "    .dataframe tbody tr th:only-of-type {\n",
       "        vertical-align: middle;\n",
       "    }\n",
       "\n",
       "    .dataframe tbody tr th {\n",
       "        vertical-align: top;\n",
       "    }\n",
       "\n",
       "    .dataframe thead th {\n",
       "        text-align: right;\n",
       "    }\n",
       "</style>\n",
       "<table border=\"1\" class=\"dataframe\">\n",
       "  <thead>\n",
       "    <tr style=\"text-align: right;\">\n",
       "      <th></th>\n",
       "      <th>Week #</th>\n",
       "      <th>Offense</th>\n",
       "      <th>Count</th>\n",
       "    </tr>\n",
       "  </thead>\n",
       "  <tbody>\n",
       "    <tr>\n",
       "      <th>0</th>\n",
       "      <td>1</td>\n",
       "      <td>Agg Assault</td>\n",
       "      <td>32</td>\n",
       "    </tr>\n",
       "    <tr>\n",
       "      <th>1</th>\n",
       "      <td>1</td>\n",
       "      <td>Burglary</td>\n",
       "      <td>76</td>\n",
       "    </tr>\n",
       "    <tr>\n",
       "      <th>2</th>\n",
       "      <td>1</td>\n",
       "      <td>Rape</td>\n",
       "      <td>13</td>\n",
       "    </tr>\n",
       "    <tr>\n",
       "      <th>3</th>\n",
       "      <td>1</td>\n",
       "      <td>Robbery</td>\n",
       "      <td>17</td>\n",
       "    </tr>\n",
       "    <tr>\n",
       "      <th>4</th>\n",
       "      <td>1</td>\n",
       "      <td>Theft</td>\n",
       "      <td>507</td>\n",
       "    </tr>\n",
       "  </tbody>\n",
       "</table>\n",
       "</div>"
      ],
      "text/plain": [
       "   Week #      Offense  Count\n",
       "0       1  Agg Assault     32\n",
       "1       1     Burglary     76\n",
       "2       1         Rape     13\n",
       "3       1      Robbery     17\n",
       "4       1        Theft    507"
      ]
     },
     "execution_count": 24,
     "metadata": {},
     "output_type": "execute_result"
    }
   ],
   "source": [
    "group_crimedata_2017 = cleaned_crimedata_2017_df.groupby((\"Week #\", \"Offense\"))#, \"Year\"))\n",
    "\n",
    "#group_crimedata_2017_df is abbreviated gcd_2017_df\n",
    "gcd_2017_df = group_crime_2017.count()\n",
    "\n",
    "gcd_2017_df = gcd_2017_df.reset_index().rename(columns={'District':'Count'})\n",
    "gcd_2017_df = gcd_2017_df[['Week #','Offense','Count']]\n",
    "\n",
    "gcd_2017_df.head()\n",
    "\n"
   ]
  },
  {
   "cell_type": "code",
   "execution_count": 13,
   "metadata": {},
   "outputs": [
    {
     "data": {
      "text/html": [
       "<div>\n",
       "<style scoped>\n",
       "    .dataframe tbody tr th:only-of-type {\n",
       "        vertical-align: middle;\n",
       "    }\n",
       "\n",
       "    .dataframe tbody tr th {\n",
       "        vertical-align: top;\n",
       "    }\n",
       "\n",
       "    .dataframe thead th {\n",
       "        text-align: right;\n",
       "    }\n",
       "</style>\n",
       "<table border=\"1\" class=\"dataframe\">\n",
       "  <thead>\n",
       "    <tr style=\"text-align: right;\">\n",
       "      <th></th>\n",
       "      <th>Week #</th>\n",
       "      <th>Offense</th>\n",
       "      <th>Count</th>\n",
       "    </tr>\n",
       "  </thead>\n",
       "  <tbody>\n",
       "    <tr>\n",
       "      <th>184</th>\n",
       "      <td>34</td>\n",
       "      <td>Theft</td>\n",
       "      <td>420</td>\n",
       "    </tr>\n",
       "  </tbody>\n",
       "</table>\n",
       "</div>"
      ],
      "text/plain": [
       "     Week # Offense  Count\n",
       "184      34   Theft    420"
      ]
     },
     "execution_count": 13,
     "metadata": {},
     "output_type": "execute_result"
    }
   ],
   "source": [
    "#Useful Report information for the different years\n",
    "\n",
    "#theft records\n",
    "theft_info_2017 = gcd_2017_df.loc[gcd_2017_df['Offense']=='Theft']\n",
    "max_theft_2017 = theft_info_2017['Count'].max()\n",
    "min_theft_2017 = theft_info_2017['Count'].min()\n",
    "max_theft_week_2017 = gcd_2017_df.loc[gcd_2017_df['Count']==max_theft_2017]\n",
    "min_theft_week_2017 = gcd_2017_df.loc[gcd_2017_df['Count']==min_theft_2017]\n",
    "\n",
    "#max_theft_2017\n",
    "max_theft_week_2017; \n",
    "min_theft_week_2017\n",
    "\n",
    "#max_theft = gcd_2017_df.loc[gcd_2017_df['Count']==(gcd_2017_df.loc[gcd_2017_df['Offense']=='Theft'].max())] \n",
    "#week_dat['Count']\n",
    "#week_dat\n",
    "#week_dat1\n",
    "#gcd_2017_df.head()\n",
    "\n",
    "\n",
    "#gcd_2017_df.loc[gcd_2017_df['Offense']=='Theft'].max(gcd_2017_df['Count'])"
   ]
  },
  {
   "cell_type": "code",
   "execution_count": 14,
   "metadata": {},
   "outputs": [
    {
     "data": {
      "text/html": [
       "<div>\n",
       "<style scoped>\n",
       "    .dataframe tbody tr th:only-of-type {\n",
       "        vertical-align: middle;\n",
       "    }\n",
       "\n",
       "    .dataframe tbody tr th {\n",
       "        vertical-align: top;\n",
       "    }\n",
       "\n",
       "    .dataframe thead th {\n",
       "        text-align: right;\n",
       "    }\n",
       "</style>\n",
       "<table border=\"1\" class=\"dataframe\">\n",
       "  <thead>\n",
       "    <tr style=\"text-align: right;\">\n",
       "      <th></th>\n",
       "      <th>Week #</th>\n",
       "      <th>Offense</th>\n",
       "      <th>Count</th>\n",
       "    </tr>\n",
       "  </thead>\n",
       "  <tbody>\n",
       "    <tr>\n",
       "      <th>271</th>\n",
       "      <td>51</td>\n",
       "      <td>Agg Assault</td>\n",
       "      <td>27</td>\n",
       "    </tr>\n",
       "  </tbody>\n",
       "</table>\n",
       "</div>"
      ],
      "text/plain": [
       "     Week #      Offense  Count\n",
       "271      51  Agg Assault     27"
      ]
     },
     "execution_count": 14,
     "metadata": {},
     "output_type": "execute_result"
    }
   ],
   "source": [
    "#Agg Assault records\n",
    "agg_info_2017 = gcd_2017_df.loc[gcd_2017_df['Offense']=='Agg Assault']\n",
    "max_agg_num_2017 = agg_info_2017['Count'].max()\n",
    "min_agg_num_2017 = agg_info_2017['Count'].min()\n",
    "max_agg_week_2017 = gcd_2017_df.loc[gcd_2017_df['Count']==max_agg_num_2017]\n",
    "min_agg_week_2017 = gcd_2017_df.loc[gcd_2017_df['Count']==min_agg_num_2017]\n",
    "\n",
    "#max agg_assault record\n",
    "max_agg_num_2017\n",
    "max_agg_week_2017\n",
    "#min agg_assault record\n",
    "min_agg_num_2017\n",
    "min_agg_week_2017"
   ]
  },
  {
   "cell_type": "code",
   "execution_count": null,
   "metadata": {},
   "outputs": [],
   "source": []
  },
  {
   "cell_type": "code",
   "execution_count": 16,
   "metadata": {},
   "outputs": [
    {
     "data": {
      "text/plain": [
       "<BarContainer object of 282 artists>"
      ]
     },
     "execution_count": 16,
     "metadata": {},
     "output_type": "execute_result"
    },
    {
     "data": {
      "image/png": "[encoded data removed]",
      "text/plain": [
       "<Figure size 432x288 with 1 Axes>"
      ]
     },
     "metadata": {
      "needs_background": "light"
     },
     "output_type": "display_data"
    }
   ],
   "source": [
    "plt.bar(gcd_2017_df['Week #'], gcd_2017_df['Count'], label=gcd_2017_df['Offense'])"
   ]
  },
  {
   "cell_type": "code",
   "execution_count": 17,
   "metadata": {},
   "outputs": [
    {
     "data": {
      "text/plain": [
       "<matplotlib.legend.Legend at 0x221134f37f0>"
      ]
     },
     "execution_count": 17,
     "metadata": {},
     "output_type": "execute_result"
    },
    {
     "data": {
      "image/png": "[encoded data removed]",
      "text/plain": [
       "<Figure size 1440x720 with 1 Axes>"
      ]
     },
     "metadata": {
      "needs_background": "light"
     },
     "output_type": "display_data"
    }
   ],
   "source": [
    "gcd_2017_df\n",
    "\n",
    "plt.figure(figsize=[20, 10])\n",
    "x_axis = np.arange(364)\n",
    "for offense in gcd_2017_df['Offense'].unique():\n",
    "    plt.plot(np.arange(len(gcd_2017_df[gcd_2017_df['Offense'] == offense]['Count'])), gcd_2017_df[gcd_2017_df['Offense'] == offense]['Count'], marker='o', label=offense)\n",
    "    #x_axis = x_axis + 0.1\n",
    "#plt.xticks(np.arange(12), ['Jan', 'Feb', 'Mar', 'Apr', 'May', 'Jun', 'Jul', 'Aug', 'Sep', 'Oct', 'Nov', 'Dec'])\n",
    "plt.yscale('log')\n",
    "plt.legend()"
   ]
  },
  {
   "cell_type": "code",
   "execution_count": 18,
   "metadata": {
    "scrolled": true
   },
   "outputs": [],
   "source": [
    "\n",
    "months = ['Jan', 'Feb', 'Mar', 'Apr', 'May', 'Jun', 'Jul', 'Aug', 'Sep', 'Oct', 'Nov', 'Dec']\n",
    "#plt.plot(months, gcd_2017_df.iloc[4:9]#,\"District\"])\n",
    "\n",
    "#plt.show()\n",
    "\n",
    "#group_crime_2017[\"Offense\"].count().plot.line()"
   ]
  },
  {
   "cell_type": "code",
   "execution_count": 19,
   "metadata": {},
   "outputs": [
    {
     "data": {
      "text/plain": [
       "3      17\n",
       "8      19\n",
       "14      9\n",
       "19     22\n",
       "25     16\n",
       "30     17\n",
       "35     24\n",
       "40     15\n",
       "45     15\n",
       "51     23\n",
       "57     21\n",
       "62     25\n",
       "68     26\n",
       "74      6\n",
       "79     16\n",
       "84     16\n",
       "89     17\n",
       "95     18\n",
       "100    16\n",
       "106    19\n",
       "111    18\n",
       "116    24\n",
       "122    22\n",
       "127    20\n",
       "133    21\n",
       "138    15\n",
       "144    21\n",
       "149    16\n",
       "154    13\n",
       "160    17\n",
       "166    12\n",
       "171    14\n",
       "177    19\n",
       "183    15\n",
       "189    17\n",
       "194    11\n",
       "200    19\n",
       "205    17\n",
       "210    29\n",
       "216    19\n",
       "221    13\n",
       "226    20\n",
       "232    18\n",
       "237    16\n",
       "242    22\n",
       "247    14\n",
       "253    24\n",
       "258    30\n",
       "263    20\n",
       "269    24\n",
       "274    24\n",
       "280    35\n",
       "Name: Count, dtype: int64"
      ]
     },
     "execution_count": 19,
     "metadata": {},
     "output_type": "execute_result"
    }
   ],
   "source": [
    "#gcd_2017_df[gcd_2017_df['Offense'] == 'Robbery']['Count']"
   ]
  },
  {
   "cell_type": "code",
   "execution_count": null,
   "metadata": {},
   "outputs": [],
   "source": []
  }
 ],
 "metadata": {
  "kernelspec": {
   "display_name": "Python 3",
   "language": "python",
   "name": "python3"
  },
  "language_info": {
   "codemirror_mode": {
    "name": "ipython",
    "version": 3
   },
   "file_extension": ".py",
   "mimetype": "text/x-python",
   "name": "python",
   "nbconvert_exporter": "python",
   "pygments_lexer": "ipython3",
   "version": "3.7.3"
  }
 },
 "nbformat": 4,
 "nbformat_minor": 2
}
