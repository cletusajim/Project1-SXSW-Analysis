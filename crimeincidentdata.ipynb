{
 "cells": [
  {
   "cell_type": "code",
   "execution_count": null,
   "metadata": {},
   "outputs": [],
   "source": [
    "#import depndencies\n",
    "import pandas as pd\n",
    "import numpy as np\n",
    "from matplotlib import pyplot as plt\n",
    "from datetime import datetime as dt\n"
   ]
  },
  {
   "cell_type": "code",
   "execution_count": null,
   "metadata": {},
   "outputs": [],
   "source": [
    "#reading data for years 2016, 2017, 2018 from the csv files\n",
    "crimedata_2016 = pd.read_csv(\"2016_Annual_Crime.csv\")\n",
    "crimedata_2017 = pd.read_csv(\"2017_Annual_Crime.csv\")\n",
    "crimedata_2018 = pd.read_csv(\"2018_Annual_Crime.csv\")"
   ]
  },
  {
   "cell_type": "code",
   "execution_count": null,
   "metadata": {},
   "outputs": [],
   "source": [
    "#get unique crime categories\n",
    "crimedata_2018[\"Category Description\"].unique()\n",
    "crimedata_2016[\"Category Description\"].unique()\n",
    "#crimedata_2018.head()"
   ]
  },
  {
   "cell_type": "code",
   "execution_count": null,
   "metadata": {},
   "outputs": [],
   "source": [
    "#some of the records for 2016 and 2018 occured at earlier years - 2017 records are fine\n",
    "#but were reported in these years. So this will skew our data\n",
    "#Resolution: will focus just on records that occured and were reported on that same year\n",
    "\n",
    "crimedata_2016 = crimedata_2016[crimedata_2016['Occurred Date'] == crimedata_2016['Report Date']]\n",
    "\n",
    "crimedata_2018 = crimedata_2018[crimedata_2018['Occurred Date'] == crimedata_2018['Report Date']]\n",
    "len(crimedata_2018['Incident Number'].unique())"
   ]
  },
  {
   "cell_type": "code",
   "execution_count": null,
   "metadata": {
    "scrolled": true
   },
   "outputs": [],
   "source": [
    "#getting the different columns of interest\n",
    "cleaned_crimedata_2016_df = crimedata_2016[[\"Category Description\", \n",
    "                              \"Report Date\",\"Zip Codes\"]]\n",
    "cleaned_crimedata_2017_df = crimedata_2017[[\"Highest NIBRS/UCR Offense Description\", \n",
    "                              \"GO Report Date\",\"GO Location Zip\"]]\n",
    "cleaned_crimedata_2018_df = crimedata_2018[[\"Category Description\", \n",
    "                              \"Report Date\",\"Zip Codes\"]]\n",
    "cleaned_crimedata_2018_df.head(2)"
   ]
  },
  {
   "cell_type": "code",
   "execution_count": null,
   "metadata": {},
   "outputs": [],
   "source": []
  },
  {
   "cell_type": "code",
   "execution_count": null,
   "metadata": {},
   "outputs": [],
   "source": [
    "#note the count of records before dropping null entries\n",
    "cleaned_crimedata_2016_df.count()\n",
    "cleaned_crimedata_2017_df.count()\n",
    "cleaned_crimedata_2018_df.count()"
   ]
  },
  {
   "cell_type": "code",
   "execution_count": null,
   "metadata": {},
   "outputs": [],
   "source": []
  },
  {
   "cell_type": "code",
   "execution_count": null,
   "metadata": {},
   "outputs": [],
   "source": []
  },
  {
   "cell_type": "code",
   "execution_count": null,
   "metadata": {},
   "outputs": [],
   "source": [
    "#drop rows/columns with null values \n",
    "cleaned_crimedata_2016_df = cleaned_crimedata_2016_df.dropna(how='any')\n",
    "cleaned_crimedata_2017_df = cleaned_crimedata_2017_df.dropna(how='any')\n",
    "cleaned_crimedata_2018_df = cleaned_crimedata_2018_df.dropna(how='any')\n",
    "\n",
    "#cleaned_crimedata_2016_df.count()\n",
    "#cleaned_crimedata_2018_df.head()"
   ]
  },
  {
   "cell_type": "code",
   "execution_count": null,
   "metadata": {
    "scrolled": true
   },
   "outputs": [],
   "source": []
  },
  {
   "cell_type": "code",
   "execution_count": null,
   "metadata": {},
   "outputs": [],
   "source": [
    "#rename some of the columns to be more descriptive\n",
    "cleaned_crimedata_2017_df = cleaned_crimedata_2017_df.rename(columns={\"Highest NIBRS/UCR Offense Description\":\"Offense\",\n",
    "                                   \"GO Report Date\": \"Report Date\",\n",
    "                                   \"GO Location Zip\":\"Zip Code\"})\n",
    "cleaned_crimedata_2018_df = cleaned_crimedata_2018_df.rename(columns={\"Category Description\":\"Offense\"})\n",
    "cleaned_crimedata_2016_df = cleaned_crimedata_2016_df.rename(columns={\"Category Description\":\"Offense\"})\n",
    "#cleaned_crimedata_2016_df.head()\n",
    "#cleaned_crimedata_2018_df['Report Date'].dtype"
   ]
  },
  {
   "cell_type": "code",
   "execution_count": null,
   "metadata": {},
   "outputs": [],
   "source": [
    "#convert the date field to datetime object/format\n",
    "cleaned_crimedata_2016_df[\"Report Date - converted\"] = pd.to_datetime(cleaned_crimedata_2016_df[\"Report Date\"])\n",
    "cleaned_crimedata_2017_df[\"Report Date - converted\"] = pd.to_datetime(cleaned_crimedata_2017_df[\"Report Date\"])\n",
    "cleaned_crimedata_2018_df[\"Report Date - converted\"] = pd.to_datetime(cleaned_crimedata_2018_df[\"Report Date\"])\n",
    "cleaned_crimedata_2016_df.head()\n",
    "\n",
    "#get the month\n",
    "cleaned_crimedata_2016_df[\"Month Number\"] = cleaned_crimedata_2016_df[\"Report Date - converted\"].dt.month\n",
    "cleaned_crimedata_2017_df[\"Month Number\"] = cleaned_crimedata_2017_df[\"Report Date - converted\"].dt.month\n",
    "cleaned_crimedata_2018_df[\"Month Number\"] = cleaned_crimedata_2018_df[\"Report Date - converted\"].dt.month\n",
    "cleaned_crimedata_2017_df.head()\n",
    "\n",
    "#get the week number\n",
    "cleaned_crimedata_2016_df[\"Week #\"] = cleaned_crimedata_2016_df[\"Report Date - converted\"].dt.week\n",
    "cleaned_crimedata_2017_df[\"Week #\"] = cleaned_crimedata_2017_df[\"Report Date - converted\"].dt.week\n",
    "cleaned_crimedata_2018_df[\"Week #\"] = cleaned_crimedata_2018_df[\"Report Date - converted\"].dt.week\n",
    "cleaned_crimedata_2017_df.head()\n",
    "#strftime()\n",
    "#cleaned_crimedata_2017_df[\"Year\"] = cleaned_crimedata_2017_df[\"report date - converted\"].dt.year\n",
    "#cleaned_crimedata_2017_df.head()\n",
    "\n",
    "#cleaned_crimedata_2017_df[\"Month Name\"] = cd.month_name[cleaned_crimedata_2017_df[\"Month Number\"]]\n",
    "#(calendar.month_name[month_idx])\n",
    "\n",
    "#cleaned_crimedata_2017_df[\"Week #\"] = cleaned_crimedata_2017_df[\"report date - converted\"].dt.week\n",
    "\n"
   ]
  },
  {
   "cell_type": "code",
   "execution_count": null,
   "metadata": {},
   "outputs": [],
   "source": [
    "#Note the week # for 2018\n",
    "cleaned_crimedata_2018_df[\"Report Date - converted\"] = pd.to_datetime(cleaned_crimedata_2018_df[\"Report Date\"])\n",
    "\n",
    "cleaned_crimedata_2018_df[\"Month Number\"] = cleaned_crimedata_2018_df[\"Report Date - converted\"].dt.month\n",
    "cleaned_crimedata_2018_df.head()\n",
    "\n",
    "cleaned_crimedata_2018_df[\"Week #\"] = cleaned_crimedata_2018_df[\"Report Date - converted\"].dt.week\n",
    "record = cleaned_crimedata_2018_df[cleaned_crimedata_2018_df['Report Date'] == '11/15/2018']\n",
    "#record.head()"
   ]
  },
  {
   "cell_type": "code",
   "execution_count": null,
   "metadata": {},
   "outputs": [],
   "source": []
  },
  {
   "cell_type": "code",
   "execution_count": null,
   "metadata": {},
   "outputs": [],
   "source": []
  },
  {
   "cell_type": "code",
   "execution_count": null,
   "metadata": {},
   "outputs": [],
   "source": [
    "cleaned_crimedata_2018_df.head()"
   ]
  },
  {
   "cell_type": "code",
   "execution_count": null,
   "metadata": {},
   "outputs": [],
   "source": [
    "#first half of the year data \n",
    "fh_crimedata_2016_df = cleaned_crimedata_2016_df[cleaned_crimedata_2016_df['Week #'] < 27]\n",
    "fh_crimedata_2017_df = cleaned_crimedata_2017_df[cleaned_crimedata_2017_df['Week #'] < 27]\n",
    "fh_crimedata_2018_df = cleaned_crimedata_2018_df[cleaned_crimedata_2018_df['Week #'] < 27]\n",
    "fh_crimedata_2016_df.count()"
   ]
  },
  {
   "cell_type": "code",
   "execution_count": null,
   "metadata": {},
   "outputs": [],
   "source": [
    "#\n",
    "len(fh_crimedata_2017_df[\"Offense\"].sum())    #total crimes during the first half of the year\n",
    "fh_crimedata_2016_df[\"Offense\"].value_counts()\n",
    "fh_crimedata_2017_df[\"Offense\"].value_counts()\n",
    "fh_crimedata_2018_df[\"Offense\"].value_counts()\n",
    "\n",
    "#cleaned_crimedata_2017_df = cleaned_crimedata_2017_df.replace({})"
   ]
  },
  {
   "cell_type": "code",
   "execution_count": null,
   "metadata": {},
   "outputs": [],
   "source": [
    "#number of weeks\n",
    "len(fh_crimedata_2016_df['Week #'].unique())\n",
    "fh_crimedata_2018_df['Week #'].unique()\n"
   ]
  },
  {
   "cell_type": "code",
   "execution_count": null,
   "metadata": {},
   "outputs": [],
   "source": [
    "#combining Auto Theft records to theft record\n",
    "fh_crimedata_2016_df = fh_crimedata_2016_df.replace({\"Auto Theft\":\"Theft\"})\n",
    "fh_crimedata_2017_df = fh_crimedata_2017_df.replace({\"Auto Theft\":\"Theft\"})\n",
    "fh_crimedata_2018_df = fh_crimedata_2018_df.replace({\"Auto Theft\":\"Theft\"})\n",
    "\n",
    "fh_crimedata_2018_df[\"Offense\"].value_counts()"
   ]
  },
  {
   "cell_type": "code",
   "execution_count": null,
   "metadata": {},
   "outputs": [],
   "source": [
    "#grouping records by Week # and Offense types\n",
    "group_crimedata_2016 = fh_crimedata_2016_df.groupby((\"Week #\", \"Offense\"))#, \"Year\"))\n",
    "group_crimedata_2017 = fh_crimedata_2017_df.groupby((\"Week #\", \"Offense\"))#, \"Year\"))\n",
    "group_crimedata_2018 = fh_crimedata_2018_df.groupby((\"Week #\", \"Offense\"))#, \"Year\"))\n"
   ]
  },
  {
   "cell_type": "code",
   "execution_count": null,
   "metadata": {},
   "outputs": [],
   "source": [
    "#group_crimedata_2017_df is abbreviated gcd_2017_df\n",
    "gcd_2016_df = group_crimedata_2016.count()\n",
    "gcd_2017_df = group_crimedata_2017.count()\n",
    "gcd_2018_df = group_crimedata_2018.count()\n"
   ]
  },
  {
   "cell_type": "code",
   "execution_count": null,
   "metadata": {},
   "outputs": [],
   "source": [
    "#Get useful data from the grouped data\n",
    "gcd_2016_df = gcd_2016_df.reset_index().rename(columns={'Month Number':'Count'})\n",
    "gcd_2017_df = gcd_2017_df.reset_index().rename(columns={'Month Number':'Count'})\n",
    "gcd_2018_df = gcd_2018_df.reset_index().rename(columns={'Month Number':'Count'})\n"
   ]
  },
  {
   "cell_type": "code",
   "execution_count": null,
   "metadata": {},
   "outputs": [],
   "source": [
    "#get useful column from the grouped data\n",
    "gcd_2016_df = gcd_2016_df[['Week #','Offense','Count']]\n",
    "gcd_2017_df = gcd_2017_df[['Week #','Offense','Count']]\n",
    "gcd_2018_df = gcd_2018_df[['Week #','Offense','Count']]\n",
    "\n",
    "gcd_2017_df.tail()"
   ]
  },
  {
   "cell_type": "code",
   "execution_count": null,
   "metadata": {},
   "outputs": [],
   "source": []
  },
  {
   "cell_type": "code",
   "execution_count": null,
   "metadata": {},
   "outputs": [],
   "source": [
    "#Useful Report information for the different years\n",
    "#theft records\n",
    "\n",
    "#2016 thefts\n",
    "theft_info_2016 = gcd_2016_df.loc[gcd_2016_df['Offense']=='Theft']\n",
    "max_theft_2016 = theft_info_2016['Count'].max()\n",
    "min_theft_2016 = theft_info_2016['Count'].min()\n",
    "max_theft_week_2016 = gcd_2016_df.loc[gcd_2016_df['Count']==max_theft_2016]\n",
    "min_theft_week_2016 = gcd_2016_df.loc[gcd_2016_df['Count']==min_theft_2016]\n",
    "\n",
    "#2017 thefts\n",
    "theft_info_2017 = gcd_2017_df.loc[gcd_2017_df['Offense']=='Theft']\n",
    "max_theft_2017 = theft_info_2017['Count'].max()\n",
    "min_theft_2017 = theft_info_2017['Count'].min()\n",
    "max_theft_week_2017 = gcd_2017_df.loc[gcd_2017_df['Count']==max_theft_2017]\n",
    "min_theft_week_2017 = gcd_2017_df.loc[gcd_2017_df['Count']==min_theft_2017]\n",
    "\n",
    "#2018 thefts\n",
    "theft_info_2018 = gcd_2018_df.loc[gcd_2018_df['Offense']=='Theft']\n",
    "max_theft_2018 = theft_info_2018['Count'].max()\n",
    "min_theft_2018 = theft_info_2018['Count'].min()\n",
    "max_theft_week_2018 = gcd_2018_df.loc[gcd_2018_df['Count']==max_theft_2018]\n",
    "min_theft_week_2018 = gcd_2018_df.loc[gcd_2018_df['Count']==min_theft_2018]\n",
    "\n",
    "\n",
    "max_theft_week_2017"
   ]
  },
  {
   "cell_type": "code",
   "execution_count": null,
   "metadata": {},
   "outputs": [],
   "source": [
    "#max_theft_2017\n",
    "max_theft_week_2017 \n",
    "#min_theft_week_2017\n",
    "\n",
    "#max_theft = gcd_2017_df.loc[gcd_2017_df['Count']==(gcd_2017_df.loc[gcd_2017_df['Offense']=='Theft'].max())] \n",
    "#week_dat['Count']\n",
    "#week_dat\n",
    "#week_dat1\n",
    "#gcd_2017_df.head()\n",
    "\n",
    "\n",
    "#gcd_2017_df.loc[gcd_2017_df['Offense']=='Theft'].max(gcd_2017_df['Count'])"
   ]
  },
  {
   "cell_type": "code",
   "execution_count": null,
   "metadata": {},
   "outputs": [],
   "source": []
  },
  {
   "cell_type": "code",
   "execution_count": null,
   "metadata": {},
   "outputs": [],
   "source": []
  },
  {
   "cell_type": "code",
   "execution_count": null,
   "metadata": {},
   "outputs": [],
   "source": []
  },
  {
   "cell_type": "code",
   "execution_count": null,
   "metadata": {},
   "outputs": [],
   "source": [
    "#Aggravated Assault records\n",
    "#2016 aggravated assaults\n",
    "agg_info_2016 = gcd_2016_df.loc[gcd_2016_df['Offense']=='Aggravated Assault']\n",
    "max_agg_num_2016 = agg_info_2016['Count'].max()\n",
    "min_agg_num_2016 = agg_info_2016['Count'].min()\n",
    "max_agg_week_2016 = gcd_2016_df.loc[gcd_2016_df['Count']==max_agg_num_2016]\n",
    "min_agg_week_2016 = gcd_2016_df.loc[gcd_2016_df['Count']==min_agg_num_2016]\n",
    "\n",
    "#2017 aggravated assaults\n",
    "agg_info_2017 = gcd_2017_df.loc[gcd_2017_df['Offense']=='Agg Assault']\n",
    "max_agg_num_2017 = agg_info_2017['Count'].max()\n",
    "min_agg_num_2017 = agg_info_2017['Count'].min()\n",
    "max_agg_week_2017 = gcd_2017_df.loc[gcd_2017_df['Count']==max_agg_num_2017]\n",
    "min_agg_week_2017 = gcd_2017_df.loc[gcd_2017_df['Count']==min_agg_num_2017]\n",
    "\n",
    "#2018 aggravated assaults\n",
    "agg_info_2018 = gcd_2018_df.loc[gcd_2018_df['Offense']=='Aggravated Assault']\n",
    "max_agg_num_2018 = agg_info_2018['Count'].max()\n",
    "min_agg_num_2018 = agg_info_2018['Count'].min()\n",
    "max_agg_week_2018 = gcd_2018_df.loc[gcd_2018_df['Count']==max_agg_num_2018]\n",
    "min_agg_week_2018 = gcd_2018_df.loc[gcd_2018_df['Count']==min_agg_num_2018]\n",
    "\n",
    "#min_agg_week_2018\n",
    "#agg_info_2018"
   ]
  },
  {
   "cell_type": "code",
   "execution_count": null,
   "metadata": {},
   "outputs": [],
   "source": [
    "#max agg_assault record\n",
    "max_agg_num_2017\n",
    "max_agg_week_2017\n",
    "#min agg_assault record\n",
    "min_agg_num_2017\n",
    "min_agg_week_2017\n",
    "\n",
    "cleaned_crimedata_2016_df['Offense'].unique()"
   ]
  },
  {
   "cell_type": "code",
   "execution_count": null,
   "metadata": {},
   "outputs": [],
   "source": [
    "#Burglary records\n",
    "#2016 Burglary\n",
    "burg_info_2016 = gcd_2016_df.loc[gcd_2016_df['Offense']=='Burglary']\n",
    "max_burg_num_2016 = burg_info_2016['Count'].max()\n",
    "min_burg_num_2016 = burg_info_2016['Count'].min()\n",
    "max_burg_week_2016 = gcd_2016_df.loc[gcd_2016_df['Count']==max_burg_num_2016]\n",
    "min_burg_week_2016 = gcd_2016_df.loc[gcd_2016_df['Count']==min_burg_num_2016]\n",
    "\n",
    "#2017 aggravated assaults\n",
    "burg_info_2017 = gcd_2017_df.loc[gcd_2017_df['Offense']=='Burglary']\n",
    "max_burg_num_2017 = burg_info_2017['Count'].max()\n",
    "min_burg_num_2017 = burg_info_2017['Count'].min()\n",
    "max_burg_week_2017 = gcd_2017_df.loc[gcd_2017_df['Count']==max_burg_num_2017]\n",
    "min_burg_week_2017 = gcd_2017_df.loc[gcd_2017_df['Count']==min_burg_num_2017]\n",
    "\n",
    "#2018 aggravated assaults\n",
    "burg_info_2018 = gcd_2018_df.loc[gcd_2018_df['Offense']=='Burglary']\n",
    "max_burg_num_2018 = burg_info_2018['Count'].max()\n",
    "min_burg_num_2018 = burg_info_2018['Count'].min()\n",
    "max_burg_week_2018 = gcd_2018_df.loc[gcd_2018_df['Count']==max_burg_num_2018]\n",
    "min_burg_week_2018 = gcd_2018_df.loc[gcd_2018_df['Count']==min_burg_num_2018]\n",
    "\n",
    "min_burg_week_2018"
   ]
  },
  {
   "cell_type": "code",
   "execution_count": null,
   "metadata": {},
   "outputs": [],
   "source": [
    "cleaned_crimedata_2016_df['Offense'].unique()"
   ]
  },
  {
   "cell_type": "code",
   "execution_count": null,
   "metadata": {},
   "outputs": [],
   "source": [
    "#Robbery records\n",
    "#2016 Robbery\n",
    "rob_info_2016 = gcd_2016_df.loc[gcd_2016_df['Offense']=='Robbery']\n",
    "max_rob_num_2016 = rob_info_2016['Count'].max()\n",
    "min_rob_num_2016 = rob_info_2016['Count'].min()\n",
    "max_rob_week_2016 = gcd_2016_df.loc[gcd_2016_df['Count']==max_rob_num_2016]\n",
    "min_rob_week_2016 = gcd_2016_df.loc[gcd_2016_df['Count']==min_rob_num_2016]\n",
    "\n",
    "#2017 Robbery\n",
    "rob_info_2017 = gcd_2017_df.loc[gcd_2017_df['Offense']=='Robbery']\n",
    "max_rob_num_2017 = rob_info_2017['Count'].max()\n",
    "min_rob_num_2017 = rob_info_2017['Count'].min()\n",
    "max_rob_week_2017 = gcd_2017_df.loc[gcd_2017_df['Count']==max_rob_num_2017]\n",
    "min_rob_week_2017 = gcd_2017_df.loc[gcd_2017_df['Count']==min_rob_num_2017]\n",
    "\n",
    "#2018 Robbery\n",
    "rob_info_2018 = gcd_2018_df.loc[gcd_2018_df['Offense']=='Robbery']\n",
    "max_rob_num_2018 = rob_info_2018['Count'].max()\n",
    "min_rob_num_2018 = rob_info_2018['Count'].min()\n",
    "max_rob_week_2018 = gcd_2018_df.loc[gcd_2018_df['Count']==max_rob_num_2018]\n",
    "min_rob_week_2018 = gcd_2018_df.loc[gcd_2018_df['Count']==min_rob_num_2018]\n",
    "\n",
    "max_rob_week_2016"
   ]
  },
  {
   "cell_type": "code",
   "execution_count": null,
   "metadata": {},
   "outputs": [],
   "source": [
    "#Murder records\n",
    "#2016 Murder\n",
    "murd_info_2016 = gcd_2016_df.loc[gcd_2016_df['Offense']=='Murder']\n",
    "max_murd_num_2016 = murd_info_2016['Count'].max()\n",
    "min_murd_num_2016 = murd_info_2016['Count'].min()\n",
    "max_murd_week_2016 = gcd_2016_df.loc[gcd_2016_df['Count']==max_murd_num_2016]\n",
    "min_murd_week_2016 = gcd_2016_df.loc[gcd_2016_df['Count']==min_murd_num_2016]\n",
    "\n",
    "#2017 Murder\n",
    "murd_info_2017 = gcd_2017_df.loc[gcd_2017_df['Offense']=='Murder']\n",
    "max_murd_num_2017 = murd_info_2017['Count'].max()\n",
    "min_murd_num_2017 = murd_info_2017['Count'].min()\n",
    "max_murd_week_2017 = gcd_2017_df.loc[gcd_2017_df['Count']==max_murd_num_2017]\n",
    "min_murd_week_2017 = gcd_2017_df.loc[gcd_2017_df['Count']==min_murd_num_2017]\n",
    "\n",
    "#2018 Murder\n",
    "murd_info_2018 = gcd_2018_df.loc[gcd_2018_df['Offense']=='Murder']\n",
    "max_murd_num_2018 = murd_info_2018['Count'].max()\n",
    "min_murd_num_2018 = murd_info_2018['Count'].min()\n",
    "max_murd_week_2018 = gcd_2018_df.loc[gcd_2018_df['Count']==max_murd_num_2018]\n",
    "min_murd_week_2018 = gcd_2018_df.loc[gcd_2018_df['Count']==min_murd_num_2018]\n",
    "\n",
    "#max_murd_week_2018"
   ]
  },
  {
   "cell_type": "code",
   "execution_count": null,
   "metadata": {},
   "outputs": [],
   "source": []
  },
  {
   "cell_type": "code",
   "execution_count": null,
   "metadata": {},
   "outputs": [],
   "source": []
  },
  {
   "cell_type": "code",
   "execution_count": 101,
   "metadata": {},
   "outputs": [],
   "source": [
    "#gcd_2016_df['Offense']=='Aggravated Assault'"
   ]
  },
  {
   "cell_type": "code",
   "execution_count": 102,
   "metadata": {},
   "outputs": [
    {
     "data": {
      "text/plain": [
       "(0.25, 26.75)"
      ]
     },
     "execution_count": 102,
     "metadata": {},
     "output_type": "execute_result"
    },
    {
     "data": {
      "image/png": "[encoded data removed]",
      "text/plain": [
       "<Figure size 1080x720 with 1 Axes>"
      ]
     },
     "metadata": {
      "needs_background": "light"
     },
     "output_type": "display_data"
    }
   ],
   "source": [
    "#plot for 2017\n",
    "plt.figure(figsize=(15,10))\n",
    "plt.bar(gcd_2017_df['Week #'], gcd_2017_df['Count'], label=gcd_2017_df['Offense']=='Agg Assault')\n",
    "plt.xlim(0.25, len(fh_crimedata_2017_df['Week #'].unique())+0.75)"
   ]
  },
  {
   "cell_type": "code",
   "execution_count": null,
   "metadata": {},
   "outputs": [],
   "source": [
    "#plot for 2016\n",
    "plt.figure(figsize=(15,10))\n",
    "plt.bar(gcd_2016_df['Week #'], gcd_2016_df['Count'], label=gcd_2016_df['Offense'])\n",
    "plt.xlim(0.25, len(fh_crimedata_2016_df['Week #'].unique())+0.75)"
   ]
  },
  {
   "cell_type": "code",
   "execution_count": 98,
   "metadata": {},
   "outputs": [],
   "source": [
    "#gcd_2016_df['Week #']"
   ]
  },
  {
   "cell_type": "code",
   "execution_count": null,
   "metadata": {},
   "outputs": [],
   "source": [
    "#plot for 2018\n",
    "plt.figure(figsize=(15,10))\n",
    "plt.bar(gcd_2018_df['Week #'], gcd_2018_df['Count'], label=gcd_2018_df['Offense'])\n",
    "plt.xlim(0.25, len(fh_crimedata_2018_df['Week #'].unique())+0.75)"
   ]
  },
  {
   "cell_type": "code",
   "execution_count": 174,
   "metadata": {},
   "outputs": [],
   "source": [
    "#agg_info_2018.head()"
   ]
  },
  {
   "cell_type": "code",
   "execution_count": null,
   "metadata": {},
   "outputs": [],
   "source": []
  },
  {
   "cell_type": "code",
   "execution_count": 133,
   "metadata": {},
   "outputs": [
    {
     "data": {
      "text/plain": [
       "<matplotlib.legend.Legend at 0x1fa93f5dcf8>"
      ]
     },
     "execution_count": 133,
     "metadata": {},
     "output_type": "execute_result"
    },
    {
     "data": {
      "image/png": "[encoded data removed]",
      "text/plain": [
       "<Figure size 1440x720 with 1 Axes>"
      ]
     },
     "metadata": {
      "needs_background": "light"
     },
     "output_type": "display_data"
    }
   ],
   "source": [
    "#gcd_2017_df\n",
    "\n",
    "plt.figure(figsize=[20, 10])\n",
    "#x_axis = np.arange(364)\n",
    "for offense in gcd_2017_df['Offense'].unique():\n",
    "    plt.plot(np.arange(len(gcd_2017_df[gcd_2017_df['Offense'] == offense]['Count'])), \n",
    "             gcd_2017_df[gcd_2017_df['Offense'] == offense]['Count'], marker='o', label=offense)\n",
    "    #x_axis = x_axis + 0.1\n",
    "#plt.xticks(np.arange(12), ['Jan', 'Feb', 'Mar', 'Apr', 'May', 'Jun', 'Jul', 'Aug', 'Sep', 'Oct', 'Nov', 'Dec'])\n",
    "#plt.xlim(0, len(gcd_2017_df['Week #'].unique())+1.75)\n",
    "plt.yscale('log')\n",
    "plt.legend()"
   ]
  },
  {
   "cell_type": "code",
   "execution_count": null,
   "metadata": {
    "scrolled": true
   },
   "outputs": [],
   "source": [
    "\n",
    "#months = ['Jan', 'Feb', 'Mar', 'Apr', 'May', 'Jun', 'Jul', 'Aug', 'Sep', 'Oct', 'Nov', 'Dec']\n",
    "#plt.plot(months, gcd_2017_df.iloc[4:9]#,\"District\"])\n",
    "\n",
    "#plt.show()\n",
    "\n",
    "#group_crime_2017[\"Offense\"].count().plot.line()"
   ]
  },
  {
   "cell_type": "code",
   "execution_count": null,
   "metadata": {},
   "outputs": [],
   "source": [
    "#gcd_2017_df[gcd_2017_df['Offense'] == 'Robbery']['Count']"
   ]
  },
  {
   "cell_type": "code",
   "execution_count": null,
   "metadata": {},
   "outputs": [],
   "source": []
  }
 ],
 "metadata": {
  "kernelspec": {
   "display_name": "Python 3",
   "language": "python",
   "name": "python3"
  },
  "language_info": {
   "codemirror_mode": {
    "name": "ipython",
    "version": 3
   },
   "file_extension": ".py",
   "mimetype": "text/x-python",
   "name": "python",
   "nbconvert_exporter": "python",
   "pygments_lexer": "ipython3",
   "version": "3.7.3"
  }
 },
 "nbformat": 4,
 "nbformat_minor": 2
}
