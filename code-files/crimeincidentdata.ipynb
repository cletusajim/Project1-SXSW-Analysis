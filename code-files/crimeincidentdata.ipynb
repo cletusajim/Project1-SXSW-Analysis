{
 "cells": [
  {
   "cell_type": "code",
   "execution_count": 223,
   "metadata": {},
   "outputs": [],
   "source": [
    "#import depndencies\n",
    "import pandas as pd\n",
    "import numpy as np\n",
    "#import plotly as ply \n",
    "from matplotlib import pyplot as plt\n",
    "from datetime import datetime as dt\n"
   ]
  },
  {
   "cell_type": "code",
   "execution_count": 2,
   "metadata": {},
   "outputs": [],
   "source": [
    "#reading data for years 2016, 2017, 2018 from the csv files\n",
    "crimedata_2016 = pd.read_csv(\"2016_Annual_Crime.csv\")\n",
    "crimedata_2017 = pd.read_csv(\"2017_Annual_Crime.csv\")\n",
    "crimedata_2018 = pd.read_csv(\"2018_Annual_Crime.csv\")"
   ]
  },
  {
   "cell_type": "code",
   "execution_count": 3,
   "metadata": {},
   "outputs": [
    {
     "data": {
      "text/plain": [
       "array([nan, 'Robbery', 'Burglary', 'Auto Theft', 'Aggravated Assault',\n",
       "       'Theft', 'Rape', 'Murder'], dtype=object)"
      ]
     },
     "execution_count": 3,
     "metadata": {},
     "output_type": "execute_result"
    }
   ],
   "source": [
    "#get unique crime categories\n",
    "crimedata_2018[\"Category Description\"].unique()\n",
    "crimedata_2016[\"Category Description\"].unique()\n",
    "#crimedata_2018.head()"
   ]
  },
  {
   "cell_type": "code",
   "execution_count": 4,
   "metadata": {},
   "outputs": [
    {
     "data": {
      "text/plain": [
       "74130"
      ]
     },
     "execution_count": 4,
     "metadata": {},
     "output_type": "execute_result"
    }
   ],
   "source": [
    "#some of the records for 2016 and 2018 occured at earlier years - 2017 records are fine\n",
    "#but were reported in these years. So this will skew our data\n",
    "#Resolution: will focus just on records that occured and were reported on that same year\n",
    "\n",
    "crimedata_2016 = crimedata_2016[crimedata_2016['Occurred Date'] == crimedata_2016['Report Date']]\n",
    "\n",
    "crimedata_2018 = crimedata_2018[crimedata_2018['Occurred Date'] == crimedata_2018['Report Date']]\n",
    "len(crimedata_2018['Incident Number'].unique())"
   ]
  },
  {
   "cell_type": "code",
   "execution_count": 5,
   "metadata": {
    "scrolled": true
   },
   "outputs": [
    {
     "data": {
      "text/html": [
       "<div>\n",
       "<style scoped>\n",
       "    .dataframe tbody tr th:only-of-type {\n",
       "        vertical-align: middle;\n",
       "    }\n",
       "\n",
       "    .dataframe tbody tr th {\n",
       "        vertical-align: top;\n",
       "    }\n",
       "\n",
       "    .dataframe thead th {\n",
       "        text-align: right;\n",
       "    }\n",
       "</style>\n",
       "<table border=\"1\" class=\"dataframe\">\n",
       "  <thead>\n",
       "    <tr style=\"text-align: right;\">\n",
       "      <th></th>\n",
       "      <th>Category Description</th>\n",
       "      <th>Report Date</th>\n",
       "      <th>Zip Codes</th>\n",
       "    </tr>\n",
       "  </thead>\n",
       "  <tbody>\n",
       "    <tr>\n",
       "      <th>0</th>\n",
       "      <td>Aggravated Assault</td>\n",
       "      <td>12/31/2018</td>\n",
       "      <td>3641.0</td>\n",
       "    </tr>\n",
       "    <tr>\n",
       "      <th>1</th>\n",
       "      <td>NaN</td>\n",
       "      <td>12/31/2018</td>\n",
       "      <td>3247.0</td>\n",
       "    </tr>\n",
       "  </tbody>\n",
       "</table>\n",
       "</div>"
      ],
      "text/plain": [
       "  Category Description Report Date  Zip Codes\n",
       "0   Aggravated Assault  12/31/2018     3641.0\n",
       "1                  NaN  12/31/2018     3247.0"
      ]
     },
     "execution_count": 5,
     "metadata": {},
     "output_type": "execute_result"
    }
   ],
   "source": [
    "#getting the different columns of interest\n",
    "cleaned_crimedata_2016_df = crimedata_2016[[\"Category Description\", \n",
    "                              \"Report Date\",\"Zip Codes\"]]\n",
    "cleaned_crimedata_2017_df = crimedata_2017[[\"Highest NIBRS/UCR Offense Description\", \n",
    "                              \"GO Report Date\",\"GO Location Zip\"]]\n",
    "cleaned_crimedata_2018_df = crimedata_2018[[\"Category Description\", \n",
    "                              \"Report Date\",\"Zip Codes\"]]\n",
    "cleaned_crimedata_2018_df.head(2)"
   ]
  },
  {
   "cell_type": "code",
   "execution_count": null,
   "metadata": {},
   "outputs": [],
   "source": []
  },
  {
   "cell_type": "code",
   "execution_count": 6,
   "metadata": {},
   "outputs": [
    {
     "data": {
      "text/plain": [
       "Category Description    20132\n",
       "Report Date             74130\n",
       "Zip Codes               72633\n",
       "dtype: int64"
      ]
     },
     "execution_count": 6,
     "metadata": {},
     "output_type": "execute_result"
    }
   ],
   "source": [
    "#note the count of records before dropping null entries\n",
    "cleaned_crimedata_2016_df.count()\n",
    "cleaned_crimedata_2017_df.count()\n",
    "cleaned_crimedata_2018_df.count()"
   ]
  },
  {
   "cell_type": "code",
   "execution_count": null,
   "metadata": {},
   "outputs": [],
   "source": []
  },
  {
   "cell_type": "code",
   "execution_count": null,
   "metadata": {},
   "outputs": [],
   "source": []
  },
  {
   "cell_type": "code",
   "execution_count": 7,
   "metadata": {},
   "outputs": [],
   "source": [
    "#drop rows/columns with null values \n",
    "cleaned_crimedata_2016_df = cleaned_crimedata_2016_df.dropna(how='any')\n",
    "cleaned_crimedata_2017_df = cleaned_crimedata_2017_df.dropna(how='any')\n",
    "cleaned_crimedata_2018_df = cleaned_crimedata_2018_df.dropna(how='any')\n",
    "\n",
    "#cleaned_crimedata_2016_df.count()\n",
    "#cleaned_crimedata_2018_df.head()"
   ]
  },
  {
   "cell_type": "code",
   "execution_count": null,
   "metadata": {
    "scrolled": true
   },
   "outputs": [],
   "source": []
  },
  {
   "cell_type": "code",
   "execution_count": 8,
   "metadata": {},
   "outputs": [],
   "source": [
    "#rename some of the columns to be more descriptive\n",
    "cleaned_crimedata_2017_df = cleaned_crimedata_2017_df.rename(columns={\"Highest NIBRS/UCR Offense Description\":\"Offense\",\n",
    "                                   \"GO Report Date\": \"Report Date\",\n",
    "                                   \"GO Location Zip\":\"Zip Code\"})\n",
    "cleaned_crimedata_2018_df = cleaned_crimedata_2018_df.rename(columns={\"Category Description\":\"Offense\"})\n",
    "cleaned_crimedata_2016_df = cleaned_crimedata_2016_df.rename(columns={\"Category Description\":\"Offense\"})\n",
    "#cleaned_crimedata_2016_df.head()\n",
    "#cleaned_crimedata_2018_df['Report Date'].dtype"
   ]
  },
  {
   "cell_type": "code",
   "execution_count": 9,
   "metadata": {},
   "outputs": [
    {
     "data": {
      "text/html": [
       "<div>\n",
       "<style scoped>\n",
       "    .dataframe tbody tr th:only-of-type {\n",
       "        vertical-align: middle;\n",
       "    }\n",
       "\n",
       "    .dataframe tbody tr th {\n",
       "        vertical-align: top;\n",
       "    }\n",
       "\n",
       "    .dataframe thead th {\n",
       "        text-align: right;\n",
       "    }\n",
       "</style>\n",
       "<table border=\"1\" class=\"dataframe\">\n",
       "  <thead>\n",
       "    <tr style=\"text-align: right;\">\n",
       "      <th></th>\n",
       "      <th>Offense</th>\n",
       "      <th>Report Date</th>\n",
       "      <th>Zip Codes</th>\n",
       "      <th>Report Date - converted</th>\n",
       "      <th>Month Number</th>\n",
       "      <th>Week #</th>\n",
       "      <th>Year</th>\n",
       "    </tr>\n",
       "  </thead>\n",
       "  <tbody>\n",
       "    <tr>\n",
       "      <th>9</th>\n",
       "      <td>Robbery</td>\n",
       "      <td>12/31/2016</td>\n",
       "      <td>3241.0</td>\n",
       "      <td>2016-12-31</td>\n",
       "      <td>12</td>\n",
       "      <td>52</td>\n",
       "      <td>2016</td>\n",
       "    </tr>\n",
       "    <tr>\n",
       "      <th>11</th>\n",
       "      <td>Burglary</td>\n",
       "      <td>12/31/2016</td>\n",
       "      <td>3259.0</td>\n",
       "      <td>2016-12-31</td>\n",
       "      <td>12</td>\n",
       "      <td>52</td>\n",
       "      <td>2016</td>\n",
       "    </tr>\n",
       "    <tr>\n",
       "      <th>22</th>\n",
       "      <td>Auto Theft</td>\n",
       "      <td>12/31/2016</td>\n",
       "      <td>3641.0</td>\n",
       "      <td>2016-12-31</td>\n",
       "      <td>12</td>\n",
       "      <td>52</td>\n",
       "      <td>2016</td>\n",
       "    </tr>\n",
       "    <tr>\n",
       "      <th>24</th>\n",
       "      <td>Aggravated Assault</td>\n",
       "      <td>12/31/2016</td>\n",
       "      <td>3641.0</td>\n",
       "      <td>2016-12-31</td>\n",
       "      <td>12</td>\n",
       "      <td>52</td>\n",
       "      <td>2016</td>\n",
       "    </tr>\n",
       "    <tr>\n",
       "      <th>36</th>\n",
       "      <td>Theft</td>\n",
       "      <td>12/31/2016</td>\n",
       "      <td>3239.0</td>\n",
       "      <td>2016-12-31</td>\n",
       "      <td>12</td>\n",
       "      <td>52</td>\n",
       "      <td>2016</td>\n",
       "    </tr>\n",
       "  </tbody>\n",
       "</table>\n",
       "</div>"
      ],
      "text/plain": [
       "               Offense Report Date  Zip Codes Report Date - converted  \\\n",
       "9              Robbery  12/31/2016     3241.0              2016-12-31   \n",
       "11            Burglary  12/31/2016     3259.0              2016-12-31   \n",
       "22          Auto Theft  12/31/2016     3641.0              2016-12-31   \n",
       "24  Aggravated Assault  12/31/2016     3641.0              2016-12-31   \n",
       "36               Theft  12/31/2016     3239.0              2016-12-31   \n",
       "\n",
       "    Month Number  Week #  Year  \n",
       "9             12      52  2016  \n",
       "11            12      52  2016  \n",
       "22            12      52  2016  \n",
       "24            12      52  2016  \n",
       "36            12      52  2016  "
      ]
     },
     "execution_count": 9,
     "metadata": {},
     "output_type": "execute_result"
    }
   ],
   "source": [
    "#convert the date field to datetime object/format\n",
    "cleaned_crimedata_2016_df[\"Report Date - converted\"] = pd.to_datetime(cleaned_crimedata_2016_df[\"Report Date\"])\n",
    "cleaned_crimedata_2017_df[\"Report Date - converted\"] = pd.to_datetime(cleaned_crimedata_2017_df[\"Report Date\"])\n",
    "cleaned_crimedata_2018_df[\"Report Date - converted\"] = pd.to_datetime(cleaned_crimedata_2018_df[\"Report Date\"])\n",
    "cleaned_crimedata_2016_df.head()\n",
    "\n",
    "#get the month\n",
    "cleaned_crimedata_2016_df[\"Month Number\"] = cleaned_crimedata_2016_df[\"Report Date - converted\"].dt.month\n",
    "cleaned_crimedata_2017_df[\"Month Number\"] = cleaned_crimedata_2017_df[\"Report Date - converted\"].dt.month\n",
    "cleaned_crimedata_2018_df[\"Month Number\"] = cleaned_crimedata_2018_df[\"Report Date - converted\"].dt.month\n",
    "cleaned_crimedata_2017_df.head()\n",
    "\n",
    "#get the week number\n",
    "cleaned_crimedata_2016_df[\"Week #\"] = cleaned_crimedata_2016_df[\"Report Date - converted\"].dt.week\n",
    "cleaned_crimedata_2017_df[\"Week #\"] = cleaned_crimedata_2017_df[\"Report Date - converted\"].dt.week\n",
    "cleaned_crimedata_2018_df[\"Week #\"] = cleaned_crimedata_2018_df[\"Report Date - converted\"].dt.week\n",
    "cleaned_crimedata_2017_df.head()\n",
    "\n",
    "#get the years\n",
    "cleaned_crimedata_2016_df[\"Year\"] = cleaned_crimedata_2016_df[\"Report Date - converted\"].dt.year\n",
    "cleaned_crimedata_2017_df[\"Year\"] = cleaned_crimedata_2017_df[\"Report Date - converted\"].dt.year\n",
    "cleaned_crimedata_2018_df[\"Year\"] = cleaned_crimedata_2018_df[\"Report Date - converted\"].dt.year\n",
    "cleaned_crimedata_2016_df.head()\n",
    "#strftime()\n",
    "#cleaned_crimedata_2017_df[\"Year\"] = cleaned_crimedata_2017_df[\"report date - converted\"].dt.year\n",
    "#cleaned_crimedata_2017_df.head()\n",
    "\n",
    "#cleaned_crimedata_2017_df[\"Month Name\"] = cd.month_name[cleaned_crimedata_2017_df[\"Month Number\"]]\n",
    "#(calendar.month_name[month_idx])\n",
    "\n",
    "#cleaned_crimedata_2017_df[\"Week #\"] = cleaned_crimedata_2017_df[\"report date - converted\"].dt.week\n",
    "\n"
   ]
  },
  {
   "cell_type": "code",
   "execution_count": 10,
   "metadata": {},
   "outputs": [],
   "source": [
    "#cleaned_crimedata_2018_df.head()"
   ]
  },
  {
   "cell_type": "code",
   "execution_count": 11,
   "metadata": {},
   "outputs": [
    {
     "data": {
      "text/html": [
       "<div>\n",
       "<style scoped>\n",
       "    .dataframe tbody tr th:only-of-type {\n",
       "        vertical-align: middle;\n",
       "    }\n",
       "\n",
       "    .dataframe tbody tr th {\n",
       "        vertical-align: top;\n",
       "    }\n",
       "\n",
       "    .dataframe thead th {\n",
       "        text-align: right;\n",
       "    }\n",
       "</style>\n",
       "<table border=\"1\" class=\"dataframe\">\n",
       "  <thead>\n",
       "    <tr style=\"text-align: right;\">\n",
       "      <th></th>\n",
       "      <th>Offense</th>\n",
       "      <th>Report Date</th>\n",
       "      <th>Zip Codes</th>\n",
       "      <th>Report Date - converted</th>\n",
       "      <th>Month Number</th>\n",
       "      <th>Week #</th>\n",
       "      <th>Year</th>\n",
       "    </tr>\n",
       "  </thead>\n",
       "  <tbody>\n",
       "    <tr>\n",
       "      <th>12147</th>\n",
       "      <td>Theft</td>\n",
       "      <td>11/15/2018</td>\n",
       "      <td>2860.0</td>\n",
       "      <td>2018-11-15</td>\n",
       "      <td>11</td>\n",
       "      <td>46</td>\n",
       "      <td>2018</td>\n",
       "    </tr>\n",
       "    <tr>\n",
       "      <th>12150</th>\n",
       "      <td>Aggravated Assault</td>\n",
       "      <td>11/15/2018</td>\n",
       "      <td>3637.0</td>\n",
       "      <td>2018-11-15</td>\n",
       "      <td>11</td>\n",
       "      <td>46</td>\n",
       "      <td>2018</td>\n",
       "    </tr>\n",
       "    <tr>\n",
       "      <th>12168</th>\n",
       "      <td>Theft</td>\n",
       "      <td>11/15/2018</td>\n",
       "      <td>2857.0</td>\n",
       "      <td>2018-11-15</td>\n",
       "      <td>11</td>\n",
       "      <td>46</td>\n",
       "      <td>2018</td>\n",
       "    </tr>\n",
       "    <tr>\n",
       "      <th>12175</th>\n",
       "      <td>Burglary</td>\n",
       "      <td>11/15/2018</td>\n",
       "      <td>3259.0</td>\n",
       "      <td>2018-11-15</td>\n",
       "      <td>11</td>\n",
       "      <td>46</td>\n",
       "      <td>2018</td>\n",
       "    </tr>\n",
       "    <tr>\n",
       "      <th>12179</th>\n",
       "      <td>Theft</td>\n",
       "      <td>11/15/2018</td>\n",
       "      <td>3637.0</td>\n",
       "      <td>2018-11-15</td>\n",
       "      <td>11</td>\n",
       "      <td>46</td>\n",
       "      <td>2018</td>\n",
       "    </tr>\n",
       "  </tbody>\n",
       "</table>\n",
       "</div>"
      ],
      "text/plain": [
       "                  Offense Report Date  Zip Codes Report Date - converted  \\\n",
       "12147               Theft  11/15/2018     2860.0              2018-11-15   \n",
       "12150  Aggravated Assault  11/15/2018     3637.0              2018-11-15   \n",
       "12168               Theft  11/15/2018     2857.0              2018-11-15   \n",
       "12175            Burglary  11/15/2018     3259.0              2018-11-15   \n",
       "12179               Theft  11/15/2018     3637.0              2018-11-15   \n",
       "\n",
       "       Month Number  Week #  Year  \n",
       "12147            11      46  2018  \n",
       "12150            11      46  2018  \n",
       "12168            11      46  2018  \n",
       "12175            11      46  2018  \n",
       "12179            11      46  2018  "
      ]
     },
     "execution_count": 11,
     "metadata": {},
     "output_type": "execute_result"
    }
   ],
   "source": [
    "#Note the week # for 2018\n",
    "cleaned_crimedata_2018_df[\"Report Date - converted\"] = pd.to_datetime(cleaned_crimedata_2018_df[\"Report Date\"])\n",
    "\n",
    "cleaned_crimedata_2018_df[\"Month Number\"] = cleaned_crimedata_2018_df[\"Report Date - converted\"].dt.month\n",
    "cleaned_crimedata_2018_df.head()\n",
    "\n",
    "cleaned_crimedata_2018_df[\"Week #\"] = cleaned_crimedata_2018_df[\"Report Date - converted\"].dt.week\n",
    "record = cleaned_crimedata_2018_df[cleaned_crimedata_2018_df['Report Date'] == '11/15/2018']\n",
    "record.head()"
   ]
  },
  {
   "cell_type": "code",
   "execution_count": null,
   "metadata": {},
   "outputs": [],
   "source": []
  },
  {
   "cell_type": "code",
   "execution_count": null,
   "metadata": {},
   "outputs": [],
   "source": []
  },
  {
   "cell_type": "code",
   "execution_count": 12,
   "metadata": {},
   "outputs": [
    {
     "data": {
      "text/html": [
       "<div>\n",
       "<style scoped>\n",
       "    .dataframe tbody tr th:only-of-type {\n",
       "        vertical-align: middle;\n",
       "    }\n",
       "\n",
       "    .dataframe tbody tr th {\n",
       "        vertical-align: top;\n",
       "    }\n",
       "\n",
       "    .dataframe thead th {\n",
       "        text-align: right;\n",
       "    }\n",
       "</style>\n",
       "<table border=\"1\" class=\"dataframe\">\n",
       "  <thead>\n",
       "    <tr style=\"text-align: right;\">\n",
       "      <th></th>\n",
       "      <th>Offense</th>\n",
       "      <th>Report Date</th>\n",
       "      <th>Zip Codes</th>\n",
       "      <th>Report Date - converted</th>\n",
       "      <th>Month Number</th>\n",
       "      <th>Week #</th>\n",
       "      <th>Year</th>\n",
       "    </tr>\n",
       "  </thead>\n",
       "  <tbody>\n",
       "    <tr>\n",
       "      <th>0</th>\n",
       "      <td>Aggravated Assault</td>\n",
       "      <td>12/31/2018</td>\n",
       "      <td>3641.0</td>\n",
       "      <td>2018-12-31</td>\n",
       "      <td>12</td>\n",
       "      <td>1</td>\n",
       "      <td>2018</td>\n",
       "    </tr>\n",
       "    <tr>\n",
       "      <th>9</th>\n",
       "      <td>Burglary</td>\n",
       "      <td>12/31/2018</td>\n",
       "      <td>3256.0</td>\n",
       "      <td>2018-12-31</td>\n",
       "      <td>12</td>\n",
       "      <td>1</td>\n",
       "      <td>2018</td>\n",
       "    </tr>\n",
       "    <tr>\n",
       "      <th>16</th>\n",
       "      <td>Robbery</td>\n",
       "      <td>12/31/2018</td>\n",
       "      <td>3243.0</td>\n",
       "      <td>2018-12-31</td>\n",
       "      <td>12</td>\n",
       "      <td>1</td>\n",
       "      <td>2018</td>\n",
       "    </tr>\n",
       "    <tr>\n",
       "      <th>26</th>\n",
       "      <td>Robbery</td>\n",
       "      <td>12/31/2018</td>\n",
       "      <td>2857.0</td>\n",
       "      <td>2018-12-31</td>\n",
       "      <td>12</td>\n",
       "      <td>1</td>\n",
       "      <td>2018</td>\n",
       "    </tr>\n",
       "    <tr>\n",
       "      <th>28</th>\n",
       "      <td>Burglary</td>\n",
       "      <td>12/31/2018</td>\n",
       "      <td>3646.0</td>\n",
       "      <td>2018-12-31</td>\n",
       "      <td>12</td>\n",
       "      <td>1</td>\n",
       "      <td>2018</td>\n",
       "    </tr>\n",
       "  </tbody>\n",
       "</table>\n",
       "</div>"
      ],
      "text/plain": [
       "               Offense Report Date  Zip Codes Report Date - converted  \\\n",
       "0   Aggravated Assault  12/31/2018     3641.0              2018-12-31   \n",
       "9             Burglary  12/31/2018     3256.0              2018-12-31   \n",
       "16             Robbery  12/31/2018     3243.0              2018-12-31   \n",
       "26             Robbery  12/31/2018     2857.0              2018-12-31   \n",
       "28            Burglary  12/31/2018     3646.0              2018-12-31   \n",
       "\n",
       "    Month Number  Week #  Year  \n",
       "0             12       1  2018  \n",
       "9             12       1  2018  \n",
       "16            12       1  2018  \n",
       "26            12       1  2018  \n",
       "28            12       1  2018  "
      ]
     },
     "execution_count": 12,
     "metadata": {},
     "output_type": "execute_result"
    }
   ],
   "source": [
    "cleaned_crimedata_2018_df.head()"
   ]
  },
  {
   "cell_type": "code",
   "execution_count": 13,
   "metadata": {},
   "outputs": [
    {
     "data": {
      "text/plain": [
       "Offense                    10694\n",
       "Report Date                10694\n",
       "Zip Codes                  10694\n",
       "Report Date - converted    10694\n",
       "Month Number               10694\n",
       "Week #                     10694\n",
       "Year                       10694\n",
       "dtype: int64"
      ]
     },
     "execution_count": 13,
     "metadata": {},
     "output_type": "execute_result"
    }
   ],
   "source": [
    "#first half of the year data \n",
    "fh_crimedata_2016_df = cleaned_crimedata_2016_df[cleaned_crimedata_2016_df['Week #'] < 27]\n",
    "fh_crimedata_2017_df = cleaned_crimedata_2017_df[cleaned_crimedata_2017_df['Week #'] < 27]\n",
    "fh_crimedata_2018_df = cleaned_crimedata_2018_df[cleaned_crimedata_2018_df['Week #'] < 27]\n",
    "fh_crimedata_2016_df.count()\n",
    "#fh_crimedata_2016_df.head(2)"
   ]
  },
  {
   "cell_type": "code",
   "execution_count": 14,
   "metadata": {},
   "outputs": [
    {
     "data": {
      "text/plain": [
       "Theft                 6226\n",
       "Burglary              1304\n",
       "Aggravated Assault     927\n",
       "Auto Theft             614\n",
       "Robbery                451\n",
       "Murder                  15\n",
       "Name: Offense, dtype: int64"
      ]
     },
     "execution_count": 14,
     "metadata": {},
     "output_type": "execute_result"
    }
   ],
   "source": [
    "#\n",
    "len(fh_crimedata_2017_df[\"Offense\"].sum())    #total crimes during the first half of the year\n",
    "fh_crimedata_2016_df[\"Offense\"].value_counts()\n",
    "fh_crimedata_2017_df[\"Offense\"].value_counts()\n",
    "fh_crimedata_2018_df[\"Offense\"].value_counts()\n",
    "\n",
    "#cleaned_crimedata_2017_df = cleaned_crimedata_2017_df.replace({})"
   ]
  },
  {
   "cell_type": "code",
   "execution_count": null,
   "metadata": {},
   "outputs": [],
   "source": [
    "#number of weeks\n",
    "len(fh_crimedata_2016_df['Week #'].unique())\n",
    "fh_crimedata_2018_df['Week #'].unique()\n"
   ]
  },
  {
   "cell_type": "code",
   "execution_count": 15,
   "metadata": {},
   "outputs": [],
   "source": [
    "#combining Auto Theft records to theft record\n",
    "fh_crimedata_2016_df = fh_crimedata_2016_df.replace({\"Auto Theft\":\"Theft\"})\n",
    "fh_crimedata_2017_df = fh_crimedata_2017_df.replace({\"Auto Theft\":\"Theft\"})\n",
    "fh_crimedata_2018_df = fh_crimedata_2018_df.replace({\"Auto Theft\":\"Theft\"})\n",
    "\n",
    "#fh_crimedata_2018_df[\"Offense\"].value_counts()"
   ]
  },
  {
   "cell_type": "code",
   "execution_count": 16,
   "metadata": {},
   "outputs": [
    {
     "name": "stderr",
     "output_type": "stream",
     "text": [
      "C:\\ProgramData\\Anaconda3\\lib\\site-packages\\ipykernel_launcher.py:2: FutureWarning: Interpreting tuple 'by' as a list of keys, rather than a single key. Use 'by=[...]' instead of 'by=(...)'. In the future, a tuple will always mean a single key.\n",
      "  \n",
      "C:\\ProgramData\\Anaconda3\\lib\\site-packages\\ipykernel_launcher.py:3: FutureWarning: Interpreting tuple 'by' as a list of keys, rather than a single key. Use 'by=[...]' instead of 'by=(...)'. In the future, a tuple will always mean a single key.\n",
      "  This is separate from the ipykernel package so we can avoid doing imports until\n",
      "C:\\ProgramData\\Anaconda3\\lib\\site-packages\\ipykernel_launcher.py:4: FutureWarning: Interpreting tuple 'by' as a list of keys, rather than a single key. Use 'by=[...]' instead of 'by=(...)'. In the future, a tuple will always mean a single key.\n",
      "  after removing the cwd from sys.path.\n"
     ]
    }
   ],
   "source": [
    "#grouping records by Week # and Offense types\n",
    "group_crimedata_2016 = fh_crimedata_2016_df.groupby((\"Week #\", \"Offense\"))#, \"Year\"))\n",
    "group_crimedata_2017 = fh_crimedata_2017_df.groupby((\"Week #\", \"Offense\"))#, \"Year\"))\n",
    "group_crimedata_2018 = fh_crimedata_2018_df.groupby((\"Week #\", \"Offense\"))#, \"Year\"))\n",
    "\n",
    "#group_crimedata_2018.head()"
   ]
  },
  {
   "cell_type": "code",
   "execution_count": 17,
   "metadata": {},
   "outputs": [
    {
     "data": {
      "text/html": [
       "<div>\n",
       "<style scoped>\n",
       "    .dataframe tbody tr th:only-of-type {\n",
       "        vertical-align: middle;\n",
       "    }\n",
       "\n",
       "    .dataframe tbody tr th {\n",
       "        vertical-align: top;\n",
       "    }\n",
       "\n",
       "    .dataframe thead th {\n",
       "        text-align: right;\n",
       "    }\n",
       "</style>\n",
       "<table border=\"1\" class=\"dataframe\">\n",
       "  <thead>\n",
       "    <tr style=\"text-align: right;\">\n",
       "      <th></th>\n",
       "      <th></th>\n",
       "      <th>Report Date</th>\n",
       "      <th>Zip Codes</th>\n",
       "      <th>Report Date - converted</th>\n",
       "      <th>Month Number</th>\n",
       "      <th>Year</th>\n",
       "    </tr>\n",
       "    <tr>\n",
       "      <th>Week #</th>\n",
       "      <th>Offense</th>\n",
       "      <th></th>\n",
       "      <th></th>\n",
       "      <th></th>\n",
       "      <th></th>\n",
       "      <th></th>\n",
       "    </tr>\n",
       "  </thead>\n",
       "  <tbody>\n",
       "    <tr>\n",
       "      <th rowspan=\"4\" valign=\"top\">1</th>\n",
       "      <th>Aggravated Assault</th>\n",
       "      <td>27</td>\n",
       "      <td>27</td>\n",
       "      <td>27</td>\n",
       "      <td>27</td>\n",
       "      <td>27</td>\n",
       "    </tr>\n",
       "    <tr>\n",
       "      <th>Burglary</th>\n",
       "      <td>76</td>\n",
       "      <td>76</td>\n",
       "      <td>76</td>\n",
       "      <td>76</td>\n",
       "      <td>76</td>\n",
       "    </tr>\n",
       "    <tr>\n",
       "      <th>Robbery</th>\n",
       "      <td>13</td>\n",
       "      <td>13</td>\n",
       "      <td>13</td>\n",
       "      <td>13</td>\n",
       "      <td>13</td>\n",
       "    </tr>\n",
       "    <tr>\n",
       "      <th>Theft</th>\n",
       "      <td>285</td>\n",
       "      <td>285</td>\n",
       "      <td>285</td>\n",
       "      <td>285</td>\n",
       "      <td>285</td>\n",
       "    </tr>\n",
       "    <tr>\n",
       "      <th>2</th>\n",
       "      <th>Aggravated Assault</th>\n",
       "      <td>28</td>\n",
       "      <td>28</td>\n",
       "      <td>28</td>\n",
       "      <td>28</td>\n",
       "      <td>28</td>\n",
       "    </tr>\n",
       "  </tbody>\n",
       "</table>\n",
       "</div>"
      ],
      "text/plain": [
       "                           Report Date  Zip Codes  Report Date - converted  \\\n",
       "Week # Offense                                                               \n",
       "1      Aggravated Assault           27         27                       27   \n",
       "       Burglary                     76         76                       76   \n",
       "       Robbery                      13         13                       13   \n",
       "       Theft                       285        285                      285   \n",
       "2      Aggravated Assault           28         28                       28   \n",
       "\n",
       "                           Month Number  Year  \n",
       "Week # Offense                                 \n",
       "1      Aggravated Assault            27    27  \n",
       "       Burglary                      76    76  \n",
       "       Robbery                       13    13  \n",
       "       Theft                        285   285  \n",
       "2      Aggravated Assault            28    28  "
      ]
     },
     "execution_count": 17,
     "metadata": {},
     "output_type": "execute_result"
    }
   ],
   "source": [
    "#group_crimedata_2017_df is abbreviated gcd_2017_df\n",
    "gcd_2016_df = group_crimedata_2016.count()\n",
    "gcd_2017_df = group_crimedata_2017.count()\n",
    "gcd_2018_df = group_crimedata_2018.count()\n",
    "gcd_2016_df.head()"
   ]
  },
  {
   "cell_type": "code",
   "execution_count": 18,
   "metadata": {},
   "outputs": [],
   "source": [
    "#Get useful data from the grouped data\n",
    "gcd_2016_df = gcd_2016_df.reset_index().rename(columns={'Month Number':'Count'})\n",
    "gcd_2017_df = gcd_2017_df.reset_index().rename(columns={'Month Number':'Count'})\n",
    "gcd_2018_df = gcd_2018_df.reset_index().rename(columns={'Month Number':'Count'})\n"
   ]
  },
  {
   "cell_type": "code",
   "execution_count": 19,
   "metadata": {},
   "outputs": [
    {
     "data": {
      "text/html": [
       "<div>\n",
       "<style scoped>\n",
       "    .dataframe tbody tr th:only-of-type {\n",
       "        vertical-align: middle;\n",
       "    }\n",
       "\n",
       "    .dataframe tbody tr th {\n",
       "        vertical-align: top;\n",
       "    }\n",
       "\n",
       "    .dataframe thead th {\n",
       "        text-align: right;\n",
       "    }\n",
       "</style>\n",
       "<table border=\"1\" class=\"dataframe\">\n",
       "  <thead>\n",
       "    <tr style=\"text-align: right;\">\n",
       "      <th></th>\n",
       "      <th>Week #</th>\n",
       "      <th>Offense</th>\n",
       "      <th>Count</th>\n",
       "    </tr>\n",
       "  </thead>\n",
       "  <tbody>\n",
       "    <tr>\n",
       "      <th>135</th>\n",
       "      <td>26</td>\n",
       "      <td>Agg Assault</td>\n",
       "      <td>44</td>\n",
       "    </tr>\n",
       "    <tr>\n",
       "      <th>136</th>\n",
       "      <td>26</td>\n",
       "      <td>Burglary</td>\n",
       "      <td>86</td>\n",
       "    </tr>\n",
       "    <tr>\n",
       "      <th>137</th>\n",
       "      <td>26</td>\n",
       "      <td>Rape</td>\n",
       "      <td>15</td>\n",
       "    </tr>\n",
       "    <tr>\n",
       "      <th>138</th>\n",
       "      <td>26</td>\n",
       "      <td>Robbery</td>\n",
       "      <td>15</td>\n",
       "    </tr>\n",
       "    <tr>\n",
       "      <th>139</th>\n",
       "      <td>26</td>\n",
       "      <td>Theft</td>\n",
       "      <td>502</td>\n",
       "    </tr>\n",
       "  </tbody>\n",
       "</table>\n",
       "</div>"
      ],
      "text/plain": [
       "     Week #      Offense  Count\n",
       "135      26  Agg Assault     44\n",
       "136      26     Burglary     86\n",
       "137      26         Rape     15\n",
       "138      26      Robbery     15\n",
       "139      26        Theft    502"
      ]
     },
     "execution_count": 19,
     "metadata": {},
     "output_type": "execute_result"
    }
   ],
   "source": [
    "#get useful column from the grouped data\n",
    "gcd_2016_df = gcd_2016_df[['Week #','Offense','Count']]\n",
    "gcd_2017_df = gcd_2017_df[['Week #','Offense','Count']]\n",
    "gcd_2018_df = gcd_2018_df[['Week #','Offense','Count']]\n",
    "\n",
    "gcd_2017_df.tail()"
   ]
  },
  {
   "cell_type": "code",
   "execution_count": 22,
   "metadata": {},
   "outputs": [
    {
     "data": {
      "text/html": [
       "<div>\n",
       "<style scoped>\n",
       "    .dataframe tbody tr th:only-of-type {\n",
       "        vertical-align: middle;\n",
       "    }\n",
       "\n",
       "    .dataframe tbody tr th {\n",
       "        vertical-align: top;\n",
       "    }\n",
       "\n",
       "    .dataframe thead th {\n",
       "        text-align: right;\n",
       "    }\n",
       "</style>\n",
       "<table border=\"1\" class=\"dataframe\">\n",
       "  <thead>\n",
       "    <tr style=\"text-align: right;\">\n",
       "      <th></th>\n",
       "      <th>Week #</th>\n",
       "      <th>Offense</th>\n",
       "      <th>Count</th>\n",
       "      <th>Year</th>\n",
       "    </tr>\n",
       "  </thead>\n",
       "  <tbody>\n",
       "    <tr>\n",
       "      <th>0</th>\n",
       "      <td>1</td>\n",
       "      <td>Aggravated Assault</td>\n",
       "      <td>40</td>\n",
       "      <td>2018</td>\n",
       "    </tr>\n",
       "    <tr>\n",
       "      <th>1</th>\n",
       "      <td>1</td>\n",
       "      <td>Burglary</td>\n",
       "      <td>60</td>\n",
       "      <td>2018</td>\n",
       "    </tr>\n",
       "    <tr>\n",
       "      <th>2</th>\n",
       "      <td>1</td>\n",
       "      <td>Robbery</td>\n",
       "      <td>26</td>\n",
       "      <td>2018</td>\n",
       "    </tr>\n",
       "    <tr>\n",
       "      <th>3</th>\n",
       "      <td>1</td>\n",
       "      <td>Theft</td>\n",
       "      <td>249</td>\n",
       "      <td>2018</td>\n",
       "    </tr>\n",
       "    <tr>\n",
       "      <th>4</th>\n",
       "      <td>2</td>\n",
       "      <td>Aggravated Assault</td>\n",
       "      <td>36</td>\n",
       "      <td>2018</td>\n",
       "    </tr>\n",
       "  </tbody>\n",
       "</table>\n",
       "</div>"
      ],
      "text/plain": [
       "   Week #             Offense  Count  Year\n",
       "0       1  Aggravated Assault     40  2018\n",
       "1       1            Burglary     60  2018\n",
       "2       1             Robbery     26  2018\n",
       "3       1               Theft    249  2018\n",
       "4       2  Aggravated Assault     36  2018"
      ]
     },
     "execution_count": 22,
     "metadata": {},
     "output_type": "execute_result"
    }
   ],
   "source": [
    "gcd_2016_df[\"Year\"] = 2016\n",
    "gcd_2017_df[\"Year\"] = 2017\n",
    "gcd_2018_df[\"Year\"] = 2018\n",
    "\n",
    "gcd_2018_df.head()"
   ]
  },
  {
   "cell_type": "code",
   "execution_count": null,
   "metadata": {},
   "outputs": [],
   "source": []
  },
  {
   "cell_type": "code",
   "execution_count": 146,
   "metadata": {},
   "outputs": [
    {
     "data": {
      "text/html": [
       "<div>\n",
       "<style scoped>\n",
       "    .dataframe tbody tr th:only-of-type {\n",
       "        vertical-align: middle;\n",
       "    }\n",
       "\n",
       "    .dataframe tbody tr th {\n",
       "        vertical-align: top;\n",
       "    }\n",
       "\n",
       "    .dataframe thead th {\n",
       "        text-align: right;\n",
       "    }\n",
       "</style>\n",
       "<table border=\"1\" class=\"dataframe\">\n",
       "  <thead>\n",
       "    <tr style=\"text-align: right;\">\n",
       "      <th></th>\n",
       "      <th>Week #</th>\n",
       "      <th>Offense</th>\n",
       "      <th>Count</th>\n",
       "      <th>Year</th>\n",
       "    </tr>\n",
       "  </thead>\n",
       "  <tbody>\n",
       "    <tr>\n",
       "      <th>0</th>\n",
       "      <td>1</td>\n",
       "      <td>Aggravated Assault</td>\n",
       "      <td>27</td>\n",
       "      <td>2016</td>\n",
       "    </tr>\n",
       "  </tbody>\n",
       "</table>\n",
       "</div>"
      ],
      "text/plain": [
       "   Week #             Offense  Count  Year\n",
       "0       1  Aggravated Assault     27  2016"
      ]
     },
     "execution_count": 146,
     "metadata": {},
     "output_type": "execute_result"
    }
   ],
   "source": [
    "crime_records = [gcd_2016_df, gcd_2017_df, gcd_2018_df]\n",
    "crime_records = pd.concat(crime_records)\n",
    "crime_records.head(1)"
   ]
  },
  {
   "cell_type": "code",
   "execution_count": 53,
   "metadata": {},
   "outputs": [
    {
     "data": {
      "text/plain": [
       "array(['Aggravated Assault', 'Burglary', 'Robbery', 'Theft', 'Murder',\n",
       "       'Agg Assault', 'Rape'], dtype=object)"
      ]
     },
     "execution_count": 53,
     "metadata": {},
     "output_type": "execute_result"
    }
   ],
   "source": [
    "crime_records['Offense'].unique()"
   ]
  },
  {
   "cell_type": "code",
   "execution_count": 284,
   "metadata": {},
   "outputs": [],
   "source": [
    "crime_records = crime_records.replace({'Agg Assault': 'Aggravated Assault'})\n"
   ]
  },
  {
   "cell_type": "code",
   "execution_count": 147,
   "metadata": {},
   "outputs": [
    {
     "data": {
      "text/html": [
       "<div>\n",
       "<style scoped>\n",
       "    .dataframe tbody tr th:only-of-type {\n",
       "        vertical-align: middle;\n",
       "    }\n",
       "\n",
       "    .dataframe tbody tr th {\n",
       "        vertical-align: top;\n",
       "    }\n",
       "\n",
       "    .dataframe thead th {\n",
       "        text-align: right;\n",
       "    }\n",
       "</style>\n",
       "<table border=\"1\" class=\"dataframe\">\n",
       "  <thead>\n",
       "    <tr style=\"text-align: right;\">\n",
       "      <th></th>\n",
       "      <th>Week #</th>\n",
       "      <th>Offense</th>\n",
       "      <th>Count</th>\n",
       "      <th>Year</th>\n",
       "    </tr>\n",
       "  </thead>\n",
       "  <tbody>\n",
       "    <tr>\n",
       "      <th>0</th>\n",
       "      <td>1</td>\n",
       "      <td>Aggravated Assault</td>\n",
       "      <td>27</td>\n",
       "      <td>2016</td>\n",
       "    </tr>\n",
       "  </tbody>\n",
       "</table>\n",
       "</div>"
      ],
      "text/plain": [
       "   Week #             Offense  Count  Year\n",
       "0       1  Aggravated Assault     27  2016"
      ]
     },
     "execution_count": 147,
     "metadata": {},
     "output_type": "execute_result"
    }
   ],
   "source": [
    "crime_records.head(1)"
   ]
  },
  {
   "cell_type": "code",
   "execution_count": 72,
   "metadata": {},
   "outputs": [],
   "source": [
    "#group by year, week and offense\n",
    "dif_yr = crime_records['Year'].unique()\n",
    "dif_crime = crime_records['Offense'].unique()\n",
    "dif_week = crime_records['Week #'].unique()"
   ]
  },
  {
   "cell_type": "code",
   "execution_count": 73,
   "metadata": {},
   "outputs": [
    {
     "data": {
      "text/plain": [
       "array([ 1,  2,  3,  4,  5,  6,  7,  8,  9, 10, 11, 12, 13, 14, 15, 16, 17,\n",
       "       18, 19, 20, 21, 22, 23, 24, 25, 26], dtype=int64)"
      ]
     },
     "execution_count": 73,
     "metadata": {},
     "output_type": "execute_result"
    }
   ],
   "source": [
    "dif_week"
   ]
  },
  {
   "cell_type": "code",
   "execution_count": 173,
   "metadata": {},
   "outputs": [],
   "source": [
    "#crime_records counts by offense type\n",
    "tr = crime_records[crime_records['Offense']=='Theft']['Year']#['Count']\n",
    "jr = crime_records[crime_records['Offense']=='Theft']\n",
    "#              ['Year']==2016]['Count']\n",
    "\n",
    "#crime_records[crime_records['Offense']=='Theft'].Count\n",
    "\n",
    "jr[jr['Year']==2016].Count#['Count']"
   ]
  },
  {
   "cell_type": "code",
   "execution_count": 155,
   "metadata": {},
   "outputs": [],
   "source": [
    "#print just the number of records that matches \n",
    "#the offense type for a given year\n",
    "\n",
    "val = (crime_records['Offense']=='Theft').bool\n",
    "#val\n",
    "\n",
    "#if val: \n",
    "    #print(val)\n",
    "#    print(crime_records[crime_records['Offense']=='Theft']['Count'])\n"
   ]
  },
  {
   "cell_type": "code",
   "execution_count": 285,
   "metadata": {},
   "outputs": [
    {
     "data": {
      "text/plain": [
       "array(['Aggravated Assault', 'Burglary', 'Robbery', 'Theft', 'Murder',\n",
       "       'Rape'], dtype=object)"
      ]
     },
     "execution_count": 285,
     "metadata": {},
     "output_type": "execute_result"
    }
   ],
   "source": [
    "crime_records['Offense'].unique()"
   ]
  },
  {
   "cell_type": "code",
   "execution_count": 262,
   "metadata": {},
   "outputs": [
    {
     "data": {
      "text/plain": [
       "array([ 1,  2,  3,  4,  5,  6,  7,  8,  9, 10, 11, 12, 13, 14, 15, 16, 17,\n",
       "       18, 19, 20, 21, 22, 23, 24, 25, 26], dtype=int64)"
      ]
     },
     "execution_count": 262,
     "metadata": {},
     "output_type": "execute_result"
    }
   ],
   "source": [
    "wk = crime_records['Week #'].unique()\n",
    "wk"
   ]
  },
  {
   "cell_type": "code",
   "execution_count": null,
   "metadata": {},
   "outputs": [],
   "source": []
  },
  {
   "cell_type": "code",
   "execution_count": null,
   "metadata": {},
   "outputs": [],
   "source": []
  },
  {
   "cell_type": "code",
   "execution_count": 283,
   "metadata": {},
   "outputs": [],
   "source": [
    "#for year in dif_yr:\n",
    "#    print(\"In \", year)\n",
    "#    for week in wk:\n",
    "#        print(\"During Week # \", week)\n",
    "#        for off in dif_crime:\n",
    "            #print(len(crime_records[crime_records['Offense']==off]), \" \", off)\n",
    "#            print(crime_records[crime_records['Offense']==off]['Count'], \" \", off)\n",
    "#    print(\"\\n\")\n"
   ]
  },
  {
   "cell_type": "code",
   "execution_count": null,
   "metadata": {},
   "outputs": [],
   "source": []
  },
  {
   "cell_type": "code",
   "execution_count": null,
   "metadata": {},
   "outputs": [],
   "source": []
  },
  {
   "cell_type": "code",
   "execution_count": 321,
   "metadata": {},
   "outputs": [
    {
     "data": {
      "image/png": "[encoded data removed]",
      "text/plain": [
       "<Figure size 432x288 with 1 Axes>"
      ]
     },
     "metadata": {
      "needs_background": "light"
     },
     "output_type": "display_data"
    }
   ],
   "source": [
    "for year in dif_yr:\n",
    "    #    subplot()\n",
    "    tf = crime_records[crime_records['Offense']=='Theft']\n",
    "    ct = tf[tf['Year']==year].Count\n",
    "    plt.plot(dif_week, ct, linewidth=2, marker=\"o\")\n",
    "#    burglary = plt.plot(dif_week, linewidth=2, marker=\"o\")\n",
    "    plt.legend(['2016', '2017', '2018'], loc=\"best\")\n",
    "    plt.xlabel('Week Number')\n",
    "    plt.ylabel('Theft')\n",
    "    plt.title(\"Crime Information\",fontsize=16, fontweight=\"bold\")\n",
    "    plt.grid()\n",
    "    plt.xlim(0,27,1)\n",
    "    plt.ylim(0,650,50)\n",
    "    plt.savefig('theft_info.png')\n",
    " "
   ]
  },
  {
   "cell_type": "code",
   "execution_count": 325,
   "metadata": {},
   "outputs": [
    {
     "data": {
      "image/png": "[encoded data removed]",
      "text/plain": [
       "<Figure size 432x288 with 1 Axes>"
      ]
     },
     "metadata": {
      "needs_background": "light"
     },
     "output_type": "display_data"
    }
   ],
   "source": [
    "#agg assault\n",
    "for year in dif_yr:\n",
    "    #    subplot()\n",
    "    ag = crime_records[crime_records['Offense']=='Aggravated Assault']\n",
    "    ca = ag[ag['Year']==year].Count\n",
    "    plt.plot(dif_week, ca, linewidth=2, marker=\"o\")\n",
    "    plt.legend(['2016', '2017', '2018'], loc=\"best\")\n",
    "    plt.xlabel('Week Number')\n",
    "    plt.ylabel('Aggravated Assault')\n",
    "    plt.title(\"Crime Information\",fontsize=16, fontweight=\"bold\")\n",
    "    plt.grid()\n",
    "    plt.xlim(0,27,1)\n",
    "    plt.ylim(18, max(ca)+10)\n",
    "    plt.savefig('agg_info.png')\n",
    " "
   ]
  },
  {
   "cell_type": "code",
   "execution_count": 329,
   "metadata": {},
   "outputs": [
    {
     "data": {
      "image/png": "[encoded data removed]",
      "text/plain": [
       "<Figure size 432x288 with 1 Axes>"
      ]
     },
     "metadata": {
      "needs_background": "light"
     },
     "output_type": "display_data"
    }
   ],
   "source": [
    "#Robbery info\n",
    "for year in dif_yr:\n",
    "    #    subplot()\n",
    "    rb = crime_records[crime_records['Offense']=='Robbery']\n",
    "    cr = rb[rb['Year']==year].Count\n",
    "    plt.plot(dif_week, cr, linewidth=2, marker=\"o\")\n",
    "    plt.legend(['2016', '2017', '2018'], loc=\"best\")\n",
    "    plt.xlabel('Week Number')\n",
    "    plt.ylabel('Robbery')\n",
    "    plt.title(\"Crime Information\",fontsize=16, fontweight=\"bold\")\n",
    "    plt.grid()\n",
    "    plt.xlim(0,27,1)\n",
    "    plt.ylim(0, max(cr)+5)\n",
    "    plt.savefig('rob_info.png')\n",
    " "
   ]
  },
  {
   "cell_type": "code",
   "execution_count": 356,
   "metadata": {},
   "outputs": [
    {
     "data": {
      "image/png": "[encoded data removed]",
      "text/plain": [
       "<Figure size 432x288 with 1 Axes>"
      ]
     },
     "metadata": {
      "needs_background": "light"
     },
     "output_type": "display_data"
    }
   ],
   "source": [
    "#Burglary info\n",
    "for year in dif_yr:\n",
    "    #    subplot()\n",
    "    bu = crime_records[crime_records['Offense']=='Burglary']\n",
    "    cb = bu[bu['Year']==year].Count    \n",
    "    plt.plot(dif_week, cb, linewidth=2, marker=\"o\")\n",
    "    plt.legend(['2016', '2017', '2018'], loc=\"best\")\n",
    "    plt.xlabel('Week Number')\n",
    "    plt.ylabel('Burglary')\n",
    "    plt.title(\"Crime Information\",fontsize=16, fontweight=\"bold\")\n",
    "    plt.grid()\n",
    "    plt.xlim(0,27)\n",
    "    plt.ylim(25, 125)\n",
    "    plt.savefig('burg_info.png')\n",
    " "
   ]
  },
  {
   "cell_type": "code",
   "execution_count": 355,
   "metadata": {},
   "outputs": [
    {
     "data": {
      "image/png": "[encoded data removed]",
      "text/plain": [
       "<Figure size 432x288 with 1 Axes>"
      ]
     },
     "metadata": {
      "needs_background": "light"
     },
     "output_type": "display_data"
    }
   ],
   "source": [
    "#Murder info -- not used as very limited records found\n",
    "for year in dif_yr:\n",
    "    #    subplot()\n",
    "    mu = crime_records[crime_records['Offense']=='Murder']\n",
    "    cm = mu[mu['Year']==year].Count\n",
    "    plt.plot(dif_week, cr, linewidth=2, marker=\"o\")\n",
    "    plt.legend(['2016', '2017', '2018'], loc=\"best\")\n",
    "    plt.xlabel('Week Number')\n",
    "    plt.ylabel('Murder')\n",
    "    plt.title(\"Crime Information\",fontsize=16, fontweight=\"bold\")\n",
    "    plt.grid()\n",
    "    plt.xlim(0, max(dif_week))\n",
    "    plt.ylim(0, 3)\n",
    "    plt.savefig('murd_info.png')\n",
    " "
   ]
  },
  {
   "cell_type": "code",
   "execution_count": 359,
   "metadata": {},
   "outputs": [
    {
     "name": "stdout",
     "output_type": "stream",
     "text": [
      "only info for 2017\n",
      "only info for 2017\n",
      "only info for 2017\n"
     ]
    },
    {
     "data": {
      "image/png": "[encoded data removed]",
      "text/plain": [
       "<Figure size 432x288 with 1 Axes>"
      ]
     },
     "metadata": {
      "needs_background": "light"
     },
     "output_type": "display_data"
    }
   ],
   "source": [
    "#Rape info --- not used as we only have for one year\n",
    "for year in dif_yr:\n",
    "    #    subplot()\n",
    "    rp = crime_records[crime_records['Offense']=='Rape']\n",
    "    crp = rp[rp['Year']==year].Count\n",
    "    plt.plot(dif_week, cr, linewidth=2, marker=\"o\")\n",
    "    plt.legend(['2016', '2017', '2018'], loc=\"best\")\n",
    "    plt.xlabel('Week Number')\n",
    "    plt.ylabel('Rape')\n",
    "    plt.title(\"Crime Information\",fontsize=16, fontweight=\"bold\")\n",
    "    plt.grid()\n",
    "    plt.xlim(0, max(dif_week)+1)\n",
    "    plt.ylim(0, 350)\n",
    "    print(\"only info for 2017\")\n",
    "    plt.savefig('rape_info.png')\n",
    " "
   ]
  },
  {
   "cell_type": "code",
   "execution_count": 358,
   "metadata": {},
   "outputs": [
    {
     "data": {
      "text/html": [
       "<div>\n",
       "<style scoped>\n",
       "    .dataframe tbody tr th:only-of-type {\n",
       "        vertical-align: middle;\n",
       "    }\n",
       "\n",
       "    .dataframe tbody tr th {\n",
       "        vertical-align: top;\n",
       "    }\n",
       "\n",
       "    .dataframe thead th {\n",
       "        text-align: right;\n",
       "    }\n",
       "</style>\n",
       "<table border=\"1\" class=\"dataframe\">\n",
       "  <thead>\n",
       "    <tr style=\"text-align: right;\">\n",
       "      <th></th>\n",
       "      <th>Week #</th>\n",
       "      <th>Offense</th>\n",
       "      <th>Count</th>\n",
       "      <th>Year</th>\n",
       "    </tr>\n",
       "  </thead>\n",
       "  <tbody>\n",
       "    <tr>\n",
       "      <th>2</th>\n",
       "      <td>1</td>\n",
       "      <td>Rape</td>\n",
       "      <td>13</td>\n",
       "      <td>2017</td>\n",
       "    </tr>\n",
       "    <tr>\n",
       "      <th>7</th>\n",
       "      <td>2</td>\n",
       "      <td>Rape</td>\n",
       "      <td>13</td>\n",
       "      <td>2017</td>\n",
       "    </tr>\n",
       "    <tr>\n",
       "      <th>13</th>\n",
       "      <td>3</td>\n",
       "      <td>Rape</td>\n",
       "      <td>15</td>\n",
       "      <td>2017</td>\n",
       "    </tr>\n",
       "    <tr>\n",
       "      <th>18</th>\n",
       "      <td>4</td>\n",
       "      <td>Rape</td>\n",
       "      <td>15</td>\n",
       "      <td>2017</td>\n",
       "    </tr>\n",
       "    <tr>\n",
       "      <th>24</th>\n",
       "      <td>5</td>\n",
       "      <td>Rape</td>\n",
       "      <td>10</td>\n",
       "      <td>2017</td>\n",
       "    </tr>\n",
       "    <tr>\n",
       "      <th>29</th>\n",
       "      <td>6</td>\n",
       "      <td>Rape</td>\n",
       "      <td>5</td>\n",
       "      <td>2017</td>\n",
       "    </tr>\n",
       "    <tr>\n",
       "      <th>34</th>\n",
       "      <td>7</td>\n",
       "      <td>Rape</td>\n",
       "      <td>19</td>\n",
       "      <td>2017</td>\n",
       "    </tr>\n",
       "    <tr>\n",
       "      <th>39</th>\n",
       "      <td>8</td>\n",
       "      <td>Rape</td>\n",
       "      <td>12</td>\n",
       "      <td>2017</td>\n",
       "    </tr>\n",
       "    <tr>\n",
       "      <th>44</th>\n",
       "      <td>9</td>\n",
       "      <td>Rape</td>\n",
       "      <td>15</td>\n",
       "      <td>2017</td>\n",
       "    </tr>\n",
       "    <tr>\n",
       "      <th>50</th>\n",
       "      <td>10</td>\n",
       "      <td>Rape</td>\n",
       "      <td>17</td>\n",
       "      <td>2017</td>\n",
       "    </tr>\n",
       "    <tr>\n",
       "      <th>56</th>\n",
       "      <td>11</td>\n",
       "      <td>Rape</td>\n",
       "      <td>9</td>\n",
       "      <td>2017</td>\n",
       "    </tr>\n",
       "    <tr>\n",
       "      <th>61</th>\n",
       "      <td>12</td>\n",
       "      <td>Rape</td>\n",
       "      <td>18</td>\n",
       "      <td>2017</td>\n",
       "    </tr>\n",
       "    <tr>\n",
       "      <th>67</th>\n",
       "      <td>13</td>\n",
       "      <td>Rape</td>\n",
       "      <td>25</td>\n",
       "      <td>2017</td>\n",
       "    </tr>\n",
       "    <tr>\n",
       "      <th>73</th>\n",
       "      <td>14</td>\n",
       "      <td>Rape</td>\n",
       "      <td>9</td>\n",
       "      <td>2017</td>\n",
       "    </tr>\n",
       "    <tr>\n",
       "      <th>78</th>\n",
       "      <td>15</td>\n",
       "      <td>Rape</td>\n",
       "      <td>18</td>\n",
       "      <td>2017</td>\n",
       "    </tr>\n",
       "    <tr>\n",
       "      <th>83</th>\n",
       "      <td>16</td>\n",
       "      <td>Rape</td>\n",
       "      <td>19</td>\n",
       "      <td>2017</td>\n",
       "    </tr>\n",
       "    <tr>\n",
       "      <th>88</th>\n",
       "      <td>17</td>\n",
       "      <td>Rape</td>\n",
       "      <td>15</td>\n",
       "      <td>2017</td>\n",
       "    </tr>\n",
       "    <tr>\n",
       "      <th>94</th>\n",
       "      <td>18</td>\n",
       "      <td>Rape</td>\n",
       "      <td>14</td>\n",
       "      <td>2017</td>\n",
       "    </tr>\n",
       "    <tr>\n",
       "      <th>99</th>\n",
       "      <td>19</td>\n",
       "      <td>Rape</td>\n",
       "      <td>12</td>\n",
       "      <td>2017</td>\n",
       "    </tr>\n",
       "    <tr>\n",
       "      <th>105</th>\n",
       "      <td>20</td>\n",
       "      <td>Rape</td>\n",
       "      <td>12</td>\n",
       "      <td>2017</td>\n",
       "    </tr>\n",
       "    <tr>\n",
       "      <th>110</th>\n",
       "      <td>21</td>\n",
       "      <td>Rape</td>\n",
       "      <td>23</td>\n",
       "      <td>2017</td>\n",
       "    </tr>\n",
       "    <tr>\n",
       "      <th>115</th>\n",
       "      <td>22</td>\n",
       "      <td>Rape</td>\n",
       "      <td>14</td>\n",
       "      <td>2017</td>\n",
       "    </tr>\n",
       "    <tr>\n",
       "      <th>121</th>\n",
       "      <td>23</td>\n",
       "      <td>Rape</td>\n",
       "      <td>18</td>\n",
       "      <td>2017</td>\n",
       "    </tr>\n",
       "    <tr>\n",
       "      <th>126</th>\n",
       "      <td>24</td>\n",
       "      <td>Rape</td>\n",
       "      <td>23</td>\n",
       "      <td>2017</td>\n",
       "    </tr>\n",
       "    <tr>\n",
       "      <th>132</th>\n",
       "      <td>25</td>\n",
       "      <td>Rape</td>\n",
       "      <td>14</td>\n",
       "      <td>2017</td>\n",
       "    </tr>\n",
       "    <tr>\n",
       "      <th>137</th>\n",
       "      <td>26</td>\n",
       "      <td>Rape</td>\n",
       "      <td>15</td>\n",
       "      <td>2017</td>\n",
       "    </tr>\n",
       "  </tbody>\n",
       "</table>\n",
       "</div>"
      ],
      "text/plain": [
       "     Week # Offense  Count  Year\n",
       "2         1    Rape     13  2017\n",
       "7         2    Rape     13  2017\n",
       "13        3    Rape     15  2017\n",
       "18        4    Rape     15  2017\n",
       "24        5    Rape     10  2017\n",
       "29        6    Rape      5  2017\n",
       "34        7    Rape     19  2017\n",
       "39        8    Rape     12  2017\n",
       "44        9    Rape     15  2017\n",
       "50       10    Rape     17  2017\n",
       "56       11    Rape      9  2017\n",
       "61       12    Rape     18  2017\n",
       "67       13    Rape     25  2017\n",
       "73       14    Rape      9  2017\n",
       "78       15    Rape     18  2017\n",
       "83       16    Rape     19  2017\n",
       "88       17    Rape     15  2017\n",
       "94       18    Rape     14  2017\n",
       "99       19    Rape     12  2017\n",
       "105      20    Rape     12  2017\n",
       "110      21    Rape     23  2017\n",
       "115      22    Rape     14  2017\n",
       "121      23    Rape     18  2017\n",
       "126      24    Rape     23  2017\n",
       "132      25    Rape     14  2017\n",
       "137      26    Rape     15  2017"
      ]
     },
     "execution_count": 358,
     "metadata": {},
     "output_type": "execute_result"
    }
   ],
   "source": [
    "crime_records[crime_records['Offense']=='Rape']"
   ]
  },
  {
   "cell_type": "code",
   "execution_count": 357,
   "metadata": {},
   "outputs": [
    {
     "data": {
      "text/html": [
       "<div>\n",
       "<style scoped>\n",
       "    .dataframe tbody tr th:only-of-type {\n",
       "        vertical-align: middle;\n",
       "    }\n",
       "\n",
       "    .dataframe tbody tr th {\n",
       "        vertical-align: top;\n",
       "    }\n",
       "\n",
       "    .dataframe thead th {\n",
       "        text-align: right;\n",
       "    }\n",
       "</style>\n",
       "<table border=\"1\" class=\"dataframe\">\n",
       "  <thead>\n",
       "    <tr style=\"text-align: right;\">\n",
       "      <th></th>\n",
       "      <th>Week #</th>\n",
       "      <th>Offense</th>\n",
       "      <th>Count</th>\n",
       "      <th>Year</th>\n",
       "    </tr>\n",
       "  </thead>\n",
       "  <tbody>\n",
       "    <tr>\n",
       "      <th>2</th>\n",
       "      <td>1</td>\n",
       "      <td>Rape</td>\n",
       "      <td>13</td>\n",
       "      <td>2017</td>\n",
       "    </tr>\n",
       "    <tr>\n",
       "      <th>7</th>\n",
       "      <td>2</td>\n",
       "      <td>Rape</td>\n",
       "      <td>13</td>\n",
       "      <td>2017</td>\n",
       "    </tr>\n",
       "    <tr>\n",
       "      <th>13</th>\n",
       "      <td>3</td>\n",
       "      <td>Rape</td>\n",
       "      <td>15</td>\n",
       "      <td>2017</td>\n",
       "    </tr>\n",
       "    <tr>\n",
       "      <th>18</th>\n",
       "      <td>4</td>\n",
       "      <td>Rape</td>\n",
       "      <td>15</td>\n",
       "      <td>2017</td>\n",
       "    </tr>\n",
       "    <tr>\n",
       "      <th>24</th>\n",
       "      <td>5</td>\n",
       "      <td>Rape</td>\n",
       "      <td>10</td>\n",
       "      <td>2017</td>\n",
       "    </tr>\n",
       "    <tr>\n",
       "      <th>29</th>\n",
       "      <td>6</td>\n",
       "      <td>Rape</td>\n",
       "      <td>5</td>\n",
       "      <td>2017</td>\n",
       "    </tr>\n",
       "    <tr>\n",
       "      <th>34</th>\n",
       "      <td>7</td>\n",
       "      <td>Rape</td>\n",
       "      <td>19</td>\n",
       "      <td>2017</td>\n",
       "    </tr>\n",
       "    <tr>\n",
       "      <th>39</th>\n",
       "      <td>8</td>\n",
       "      <td>Rape</td>\n",
       "      <td>12</td>\n",
       "      <td>2017</td>\n",
       "    </tr>\n",
       "    <tr>\n",
       "      <th>44</th>\n",
       "      <td>9</td>\n",
       "      <td>Rape</td>\n",
       "      <td>15</td>\n",
       "      <td>2017</td>\n",
       "    </tr>\n",
       "    <tr>\n",
       "      <th>50</th>\n",
       "      <td>10</td>\n",
       "      <td>Rape</td>\n",
       "      <td>17</td>\n",
       "      <td>2017</td>\n",
       "    </tr>\n",
       "    <tr>\n",
       "      <th>56</th>\n",
       "      <td>11</td>\n",
       "      <td>Rape</td>\n",
       "      <td>9</td>\n",
       "      <td>2017</td>\n",
       "    </tr>\n",
       "    <tr>\n",
       "      <th>61</th>\n",
       "      <td>12</td>\n",
       "      <td>Rape</td>\n",
       "      <td>18</td>\n",
       "      <td>2017</td>\n",
       "    </tr>\n",
       "    <tr>\n",
       "      <th>67</th>\n",
       "      <td>13</td>\n",
       "      <td>Rape</td>\n",
       "      <td>25</td>\n",
       "      <td>2017</td>\n",
       "    </tr>\n",
       "    <tr>\n",
       "      <th>73</th>\n",
       "      <td>14</td>\n",
       "      <td>Rape</td>\n",
       "      <td>9</td>\n",
       "      <td>2017</td>\n",
       "    </tr>\n",
       "    <tr>\n",
       "      <th>78</th>\n",
       "      <td>15</td>\n",
       "      <td>Rape</td>\n",
       "      <td>18</td>\n",
       "      <td>2017</td>\n",
       "    </tr>\n",
       "    <tr>\n",
       "      <th>83</th>\n",
       "      <td>16</td>\n",
       "      <td>Rape</td>\n",
       "      <td>19</td>\n",
       "      <td>2017</td>\n",
       "    </tr>\n",
       "    <tr>\n",
       "      <th>88</th>\n",
       "      <td>17</td>\n",
       "      <td>Rape</td>\n",
       "      <td>15</td>\n",
       "      <td>2017</td>\n",
       "    </tr>\n",
       "    <tr>\n",
       "      <th>94</th>\n",
       "      <td>18</td>\n",
       "      <td>Rape</td>\n",
       "      <td>14</td>\n",
       "      <td>2017</td>\n",
       "    </tr>\n",
       "    <tr>\n",
       "      <th>99</th>\n",
       "      <td>19</td>\n",
       "      <td>Rape</td>\n",
       "      <td>12</td>\n",
       "      <td>2017</td>\n",
       "    </tr>\n",
       "    <tr>\n",
       "      <th>105</th>\n",
       "      <td>20</td>\n",
       "      <td>Rape</td>\n",
       "      <td>12</td>\n",
       "      <td>2017</td>\n",
       "    </tr>\n",
       "    <tr>\n",
       "      <th>110</th>\n",
       "      <td>21</td>\n",
       "      <td>Rape</td>\n",
       "      <td>23</td>\n",
       "      <td>2017</td>\n",
       "    </tr>\n",
       "    <tr>\n",
       "      <th>115</th>\n",
       "      <td>22</td>\n",
       "      <td>Rape</td>\n",
       "      <td>14</td>\n",
       "      <td>2017</td>\n",
       "    </tr>\n",
       "    <tr>\n",
       "      <th>121</th>\n",
       "      <td>23</td>\n",
       "      <td>Rape</td>\n",
       "      <td>18</td>\n",
       "      <td>2017</td>\n",
       "    </tr>\n",
       "    <tr>\n",
       "      <th>126</th>\n",
       "      <td>24</td>\n",
       "      <td>Rape</td>\n",
       "      <td>23</td>\n",
       "      <td>2017</td>\n",
       "    </tr>\n",
       "    <tr>\n",
       "      <th>132</th>\n",
       "      <td>25</td>\n",
       "      <td>Rape</td>\n",
       "      <td>14</td>\n",
       "      <td>2017</td>\n",
       "    </tr>\n",
       "    <tr>\n",
       "      <th>137</th>\n",
       "      <td>26</td>\n",
       "      <td>Rape</td>\n",
       "      <td>15</td>\n",
       "      <td>2017</td>\n",
       "    </tr>\n",
       "  </tbody>\n",
       "</table>\n",
       "</div>"
      ],
      "text/plain": [
       "     Week # Offense  Count  Year\n",
       "2         1    Rape     13  2017\n",
       "7         2    Rape     13  2017\n",
       "13        3    Rape     15  2017\n",
       "18        4    Rape     15  2017\n",
       "24        5    Rape     10  2017\n",
       "29        6    Rape      5  2017\n",
       "34        7    Rape     19  2017\n",
       "39        8    Rape     12  2017\n",
       "44        9    Rape     15  2017\n",
       "50       10    Rape     17  2017\n",
       "56       11    Rape      9  2017\n",
       "61       12    Rape     18  2017\n",
       "67       13    Rape     25  2017\n",
       "73       14    Rape      9  2017\n",
       "78       15    Rape     18  2017\n",
       "83       16    Rape     19  2017\n",
       "88       17    Rape     15  2017\n",
       "94       18    Rape     14  2017\n",
       "99       19    Rape     12  2017\n",
       "105      20    Rape     12  2017\n",
       "110      21    Rape     23  2017\n",
       "115      22    Rape     14  2017\n",
       "121      23    Rape     18  2017\n",
       "126      24    Rape     23  2017\n",
       "132      25    Rape     14  2017\n",
       "137      26    Rape     15  2017"
      ]
     },
     "execution_count": 357,
     "metadata": {},
     "output_type": "execute_result"
    }
   ],
   "source": [
    "rp"
   ]
  },
  {
   "cell_type": "code",
   "execution_count": null,
   "metadata": {},
   "outputs": [],
   "source": []
  },
  {
   "cell_type": "code",
   "execution_count": 288,
   "metadata": {},
   "outputs": [
    {
     "data": {
      "image/png": "[encoded data removed]",
      "text/plain": [
       "<Figure size 432x288 with 1 Axes>"
      ]
     },
     "metadata": {
      "needs_background": "light"
     },
     "output_type": "display_data"
    }
   ],
   "source": [
    "burglary = plt.plot(dif_week, linewidth=2, marker=\"o\")"
   ]
  },
  {
   "cell_type": "code",
   "execution_count": null,
   "metadata": {},
   "outputs": [],
   "source": []
  },
  {
   "cell_type": "code",
   "execution_count": null,
   "metadata": {},
   "outputs": [],
   "source": []
  },
  {
   "cell_type": "code",
   "execution_count": null,
   "metadata": {},
   "outputs": [],
   "source": []
  },
  {
   "cell_type": "code",
   "execution_count": null,
   "metadata": {},
   "outputs": [],
   "source": []
  },
  {
   "cell_type": "code",
   "execution_count": 66,
   "metadata": {},
   "outputs": [
    {
     "data": {
      "text/html": [
       "<div>\n",
       "<style scoped>\n",
       "    .dataframe tbody tr th:only-of-type {\n",
       "        vertical-align: middle;\n",
       "    }\n",
       "\n",
       "    .dataframe tbody tr th {\n",
       "        vertical-align: top;\n",
       "    }\n",
       "\n",
       "    .dataframe thead th {\n",
       "        text-align: right;\n",
       "    }\n",
       "</style>\n",
       "<table border=\"1\" class=\"dataframe\">\n",
       "  <thead>\n",
       "    <tr style=\"text-align: right;\">\n",
       "      <th></th>\n",
       "      <th>Week #</th>\n",
       "      <th>Offense</th>\n",
       "      <th>Count</th>\n",
       "      <th>Year</th>\n",
       "    </tr>\n",
       "  </thead>\n",
       "  <tbody>\n",
       "    <tr>\n",
       "      <th>58</th>\n",
       "      <td>11</td>\n",
       "      <td>Theft</td>\n",
       "      <td>597</td>\n",
       "      <td>2017</td>\n",
       "    </tr>\n",
       "  </tbody>\n",
       "</table>\n",
       "</div>"
      ],
      "text/plain": [
       "    Week # Offense  Count  Year\n",
       "58      11   Theft    597  2017"
      ]
     },
     "execution_count": 66,
     "metadata": {},
     "output_type": "execute_result"
    }
   ],
   "source": [
    "#Useful Report information for the different years\n",
    "#theft records\n",
    "\n",
    "#2016 thefts\n",
    "theft_info_2016 = gcd_2016_df.loc[gcd_2016_df['Offense']=='Theft']\n",
    "max_theft_2016 = theft_info_2016['Count'].max()\n",
    "min_theft_2016 = theft_info_2016['Count'].min()\n",
    "max_theft_week_2016 = gcd_2016_df.loc[gcd_2016_df['Count']==max_theft_2016]\n",
    "min_theft_week_2016 = gcd_2016_df.loc[gcd_2016_df['Count']==min_theft_2016]\n",
    "\n",
    "#2017 thefts\n",
    "theft_info_2017 = gcd_2017_df.loc[gcd_2017_df['Offense']=='Theft']\n",
    "max_theft_2017 = theft_info_2017['Count'].max()\n",
    "min_theft_2017 = theft_info_2017['Count'].min()\n",
    "max_theft_week_2017 = gcd_2017_df.loc[gcd_2017_df['Count']==max_theft_2017]\n",
    "min_theft_week_2017 = gcd_2017_df.loc[gcd_2017_df['Count']==min_theft_2017]\n",
    "\n",
    "#2018 thefts\n",
    "theft_info_2018 = gcd_2018_df.loc[gcd_2018_df['Offense']=='Theft']\n",
    "max_theft_2018 = theft_info_2018['Count'].max()\n",
    "min_theft_2018 = theft_info_2018['Count'].min()\n",
    "max_theft_week_2018 = gcd_2018_df.loc[gcd_2018_df['Count']==max_theft_2018]\n",
    "min_theft_week_2018 = gcd_2018_df.loc[gcd_2018_df['Count']==min_theft_2018]\n",
    "\n",
    "\n",
    "max_theft_week_2017"
   ]
  },
  {
   "cell_type": "code",
   "execution_count": 67,
   "metadata": {},
   "outputs": [
    {
     "data": {
      "text/html": [
       "<div>\n",
       "<style scoped>\n",
       "    .dataframe tbody tr th:only-of-type {\n",
       "        vertical-align: middle;\n",
       "    }\n",
       "\n",
       "    .dataframe tbody tr th {\n",
       "        vertical-align: top;\n",
       "    }\n",
       "\n",
       "    .dataframe thead th {\n",
       "        text-align: right;\n",
       "    }\n",
       "</style>\n",
       "<table border=\"1\" class=\"dataframe\">\n",
       "  <thead>\n",
       "    <tr style=\"text-align: right;\">\n",
       "      <th></th>\n",
       "      <th>Week #</th>\n",
       "      <th>Offense</th>\n",
       "      <th>Count</th>\n",
       "      <th>Year</th>\n",
       "    </tr>\n",
       "  </thead>\n",
       "  <tbody>\n",
       "    <tr>\n",
       "      <th>58</th>\n",
       "      <td>11</td>\n",
       "      <td>Theft</td>\n",
       "      <td>597</td>\n",
       "      <td>2017</td>\n",
       "    </tr>\n",
       "  </tbody>\n",
       "</table>\n",
       "</div>"
      ],
      "text/plain": [
       "    Week # Offense  Count  Year\n",
       "58      11   Theft    597  2017"
      ]
     },
     "execution_count": 67,
     "metadata": {},
     "output_type": "execute_result"
    }
   ],
   "source": [
    "#max_theft_2017\n",
    "max_theft_week_2017 \n",
    "#min_theft_week_2017\n",
    "\n",
    "#max_theft = gcd_2017_df.loc[gcd_2017_df['Count']==(gcd_2017_df.loc[gcd_2017_df['Offense']=='Theft'].max())] \n",
    "#week_dat['Count']\n",
    "#week_dat\n",
    "#week_dat1\n",
    "#gcd_2017_df.head()\n",
    "\n",
    "\n",
    "#gcd_2017_df.loc[gcd_2017_df['Offense']=='Theft'].max(gcd_2017_df['Count'])"
   ]
  },
  {
   "cell_type": "code",
   "execution_count": null,
   "metadata": {},
   "outputs": [],
   "source": []
  },
  {
   "cell_type": "code",
   "execution_count": 68,
   "metadata": {},
   "outputs": [],
   "source": [
    "weeks = gcd_2016_df['Week #'].unique()\n",
    "\n",
    "thefts = gcd_2016_df[gcd_2016_df['Offense']=='Aggravated Assault']['Count']\n",
    "#thefts"
   ]
  },
  {
   "cell_type": "code",
   "execution_count": 69,
   "metadata": {},
   "outputs": [
    {
     "data": {
      "text/plain": [
       "3      285\n",
       "7      253\n",
       "12     335\n",
       "16     310\n",
       "20     299\n",
       "24     284\n",
       "28     293\n",
       "32     257\n",
       "37     278\n",
       "41     284\n",
       "45     296\n",
       "49     265\n",
       "53     277\n",
       "58     293\n",
       "62     311\n",
       "66     321\n",
       "70     268\n",
       "75     302\n",
       "80     272\n",
       "85     290\n",
       "89     301\n",
       "94     271\n",
       "98     284\n",
       "103    261\n",
       "108    321\n",
       "113    254\n",
       "Name: Count, dtype: int64"
      ]
     },
     "execution_count": 69,
     "metadata": {},
     "output_type": "execute_result"
    }
   ],
   "source": [
    "gcd_2016_df[gcd_2016_df['Offense']=='Theft']['Count']"
   ]
  },
  {
   "cell_type": "code",
   "execution_count": null,
   "metadata": {},
   "outputs": [],
   "source": []
  },
  {
   "cell_type": "code",
   "execution_count": 224,
   "metadata": {},
   "outputs": [
    {
     "name": "stdout",
     "output_type": "stream",
     "text": [
      "Aggravated Assault\n",
      "Burglary\n",
      "Robbery\n",
      "Theft\n",
      "Murder\n"
     ]
    }
   ],
   "source": [
    "#crime info for 2016\n",
    "for crime in gcd_2016_df['Offense'].unique():\n",
    "    print(crime)\n",
    "    weekly_crime = gcd_2016_df[gcd_2016_df['Offense']==crime]['Count']\n",
    "    plt.plot(weeks, weekly_crime, linewidth=2, marker=\"o\")\n",
    "    plt.yscale('log')\n",
    "    plt.ylabel('Total')\n",
    "    plt.xlabel('Week Number')\n",
    "    plt.legend(loc= \"best\")"
   ]
  },
  {
   "cell_type": "code",
   "execution_count": 35,
   "metadata": {},
   "outputs": [
    {
     "name": "stdout",
     "output_type": "stream",
     "text": [
      "Agg Assault\n",
      "Burglary\n",
      "Rape\n",
      "Robbery\n",
      "Theft\n",
      "Murder\n"
     ]
    }
   ],
   "source": [
    "#crime info for 2017\n",
    "for crime in gcd_2017_df['Offense'].unique():\n",
    "    print(crime)\n",
    "    weekly_crime = gcd_2017_df[gcd_2017_df['Offense']==crime]['Count']\n",
    "#    plt.plot(weeks, weekly_crime, linewidth=2, marker=\"o\")\n",
    "#    plt.yscale('log')\n",
    "#    plt.ylabel('Total')\n",
    "#    plt.xlabel('Week Number')\n",
    "#    plt.legend(loc= \"best\")"
   ]
  },
  {
   "cell_type": "code",
   "execution_count": 37,
   "metadata": {},
   "outputs": [
    {
     "name": "stdout",
     "output_type": "stream",
     "text": [
      "Aggravated Assault\n",
      "Burglary\n",
      "Robbery\n",
      "Theft\n",
      "Murder\n"
     ]
    }
   ],
   "source": [
    "#crime info for 2018\n",
    "for crime in gcd_2018_df['Offense'].unique():\n",
    "    print(crime)\n",
    "    weekly_crime = gcd_2018_df[gcd_2018_df['Offense']==crime]['Count']\n",
    "#    plt.plot(weeks, weekly_crime, linewidth=2, marker=\"o\")\n",
    "#    plt.yscale('log')\n",
    "#    plt.ylabel('Total')\n",
    "#    plt.xlabel('Week Number')\n",
    "#    plt.legend(loc= \"best\")"
   ]
  },
  {
   "cell_type": "code",
   "execution_count": null,
   "metadata": {},
   "outputs": [],
   "source": []
  },
  {
   "cell_type": "code",
   "execution_count": null,
   "metadata": {},
   "outputs": [],
   "source": []
  },
  {
   "cell_type": "code",
   "execution_count": 201,
   "metadata": {},
   "outputs": [
    {
     "data": {
      "text/plain": [
       "<matplotlib.legend.Legend at 0x1fa998f9518>"
      ]
     },
     "execution_count": 201,
     "metadata": {},
     "output_type": "execute_result"
    },
    {
     "data": {
      "image/png": "[encoded data removed]",
      "text/plain": [
       "<Figure size 432x288 with 1 Axes>"
      ]
     },
     "metadata": {
      "needs_background": "light"
     },
     "output_type": "display_data"
    }
   ],
   "source": [
    "plt.plot(weeks, thefts, linewidth=2, marker=\"o\", color=\"blue\")\n",
    "plt.grid()\n",
    "plt.xlabel(\"Week Number\")\n",
    "plt.ylabel(\"Total Thefts\")\n",
    "#plt.xlim(1,27,1)\n",
    "plt.legend()"
   ]
  },
  {
   "cell_type": "code",
   "execution_count": null,
   "metadata": {},
   "outputs": [],
   "source": []
  },
  {
   "cell_type": "code",
   "execution_count": 227,
   "metadata": {},
   "outputs": [
    {
     "data": {
      "text/html": [
       "<div>\n",
       "<style scoped>\n",
       "    .dataframe tbody tr th:only-of-type {\n",
       "        vertical-align: middle;\n",
       "    }\n",
       "\n",
       "    .dataframe tbody tr th {\n",
       "        vertical-align: top;\n",
       "    }\n",
       "\n",
       "    .dataframe thead th {\n",
       "        text-align: right;\n",
       "    }\n",
       "</style>\n",
       "<table border=\"1\" class=\"dataframe\">\n",
       "  <thead>\n",
       "    <tr style=\"text-align: right;\">\n",
       "      <th></th>\n",
       "      <th>Week #</th>\n",
       "      <th>Offense</th>\n",
       "      <th>Count</th>\n",
       "    </tr>\n",
       "  </thead>\n",
       "  <tbody>\n",
       "    <tr>\n",
       "      <th>0</th>\n",
       "      <td>1</td>\n",
       "      <td>Aggravated Assault</td>\n",
       "      <td>27</td>\n",
       "    </tr>\n",
       "    <tr>\n",
       "      <th>1</th>\n",
       "      <td>1</td>\n",
       "      <td>Burglary</td>\n",
       "      <td>76</td>\n",
       "    </tr>\n",
       "    <tr>\n",
       "      <th>2</th>\n",
       "      <td>1</td>\n",
       "      <td>Robbery</td>\n",
       "      <td>13</td>\n",
       "    </tr>\n",
       "    <tr>\n",
       "      <th>3</th>\n",
       "      <td>1</td>\n",
       "      <td>Theft</td>\n",
       "      <td>285</td>\n",
       "    </tr>\n",
       "    <tr>\n",
       "      <th>4</th>\n",
       "      <td>2</td>\n",
       "      <td>Aggravated Assault</td>\n",
       "      <td>28</td>\n",
       "    </tr>\n",
       "  </tbody>\n",
       "</table>\n",
       "</div>"
      ],
      "text/plain": [
       "   Week #             Offense  Count\n",
       "0       1  Aggravated Assault     27\n",
       "1       1            Burglary     76\n",
       "2       1             Robbery     13\n",
       "3       1               Theft    285\n",
       "4       2  Aggravated Assault     28"
      ]
     },
     "execution_count": 227,
     "metadata": {},
     "output_type": "execute_result"
    }
   ],
   "source": [
    "gcd_2016_df.head()"
   ]
  },
  {
   "cell_type": "code",
   "execution_count": null,
   "metadata": {},
   "outputs": [],
   "source": []
  },
  {
   "cell_type": "code",
   "execution_count": null,
   "metadata": {},
   "outputs": [],
   "source": []
  },
  {
   "cell_type": "code",
   "execution_count": null,
   "metadata": {},
   "outputs": [],
   "source": [
    "#Aggravated Assault records\n",
    "#2016 aggravated assaults\n",
    "agg_info_2016 = gcd_2016_df.loc[gcd_2016_df['Offense']=='Aggravated Assault']\n",
    "max_agg_num_2016 = agg_info_2016['Count'].max()\n",
    "min_agg_num_2016 = agg_info_2016['Count'].min()\n",
    "max_agg_week_2016 = gcd_2016_df.loc[gcd_2016_df['Count']==max_agg_num_2016]\n",
    "min_agg_week_2016 = gcd_2016_df.loc[gcd_2016_df['Count']==min_agg_num_2016]\n",
    "\n",
    "#2017 aggravated assaults\n",
    "agg_info_2017 = gcd_2017_df.loc[gcd_2017_df['Offense']=='Agg Assault']\n",
    "max_agg_num_2017 = agg_info_2017['Count'].max()\n",
    "min_agg_num_2017 = agg_info_2017['Count'].min()\n",
    "max_agg_week_2017 = gcd_2017_df.loc[gcd_2017_df['Count']==max_agg_num_2017]\n",
    "min_agg_week_2017 = gcd_2017_df.loc[gcd_2017_df['Count']==min_agg_num_2017]\n",
    "\n",
    "#2018 aggravated assaults\n",
    "agg_info_2018 = gcd_2018_df.loc[gcd_2018_df['Offense']=='Aggravated Assault']\n",
    "max_agg_num_2018 = agg_info_2018['Count'].max()\n",
    "min_agg_num_2018 = agg_info_2018['Count'].min()\n",
    "max_agg_week_2018 = gcd_2018_df.loc[gcd_2018_df['Count']==max_agg_num_2018]\n",
    "min_agg_week_2018 = gcd_2018_df.loc[gcd_2018_df['Count']==min_agg_num_2018]\n",
    "\n",
    "#min_agg_week_2018\n",
    "#agg_info_2018"
   ]
  },
  {
   "cell_type": "code",
   "execution_count": null,
   "metadata": {},
   "outputs": [],
   "source": [
    "#max agg_assault record\n",
    "max_agg_num_2017\n",
    "max_agg_week_2017\n",
    "#min agg_assault record\n",
    "min_agg_num_2017\n",
    "min_agg_week_2017\n",
    "\n",
    "cleaned_crimedata_2016_df['Offense'].unique()"
   ]
  },
  {
   "cell_type": "code",
   "execution_count": null,
   "metadata": {},
   "outputs": [],
   "source": [
    "#Burglary records\n",
    "#2016 Burglary\n",
    "burg_info_2016 = gcd_2016_df.loc[gcd_2016_df['Offense']=='Burglary']\n",
    "max_burg_num_2016 = burg_info_2016['Count'].max()\n",
    "min_burg_num_2016 = burg_info_2016['Count'].min()\n",
    "max_burg_week_2016 = gcd_2016_df.loc[gcd_2016_df['Count']==max_burg_num_2016]\n",
    "min_burg_week_2016 = gcd_2016_df.loc[gcd_2016_df['Count']==min_burg_num_2016]\n",
    "\n",
    "#2017 aggravated assaults\n",
    "burg_info_2017 = gcd_2017_df.loc[gcd_2017_df['Offense']=='Burglary']\n",
    "max_burg_num_2017 = burg_info_2017['Count'].max()\n",
    "min_burg_num_2017 = burg_info_2017['Count'].min()\n",
    "max_burg_week_2017 = gcd_2017_df.loc[gcd_2017_df['Count']==max_burg_num_2017]\n",
    "min_burg_week_2017 = gcd_2017_df.loc[gcd_2017_df['Count']==min_burg_num_2017]\n",
    "\n",
    "#2018 aggravated assaults\n",
    "burg_info_2018 = gcd_2018_df.loc[gcd_2018_df['Offense']=='Burglary']\n",
    "max_burg_num_2018 = burg_info_2018['Count'].max()\n",
    "min_burg_num_2018 = burg_info_2018['Count'].min()\n",
    "max_burg_week_2018 = gcd_2018_df.loc[gcd_2018_df['Count']==max_burg_num_2018]\n",
    "min_burg_week_2018 = gcd_2018_df.loc[gcd_2018_df['Count']==min_burg_num_2018]\n",
    "\n",
    "min_burg_week_2018"
   ]
  },
  {
   "cell_type": "code",
   "execution_count": null,
   "metadata": {},
   "outputs": [],
   "source": [
    "cleaned_crimedata_2016_df['Offense'].unique()"
   ]
  },
  {
   "cell_type": "code",
   "execution_count": null,
   "metadata": {},
   "outputs": [],
   "source": [
    "#Robbery records\n",
    "#2016 Robbery\n",
    "rob_info_2016 = gcd_2016_df.loc[gcd_2016_df['Offense']=='Robbery']\n",
    "max_rob_num_2016 = rob_info_2016['Count'].max()\n",
    "min_rob_num_2016 = rob_info_2016['Count'].min()\n",
    "max_rob_week_2016 = gcd_2016_df.loc[gcd_2016_df['Count']==max_rob_num_2016]\n",
    "min_rob_week_2016 = gcd_2016_df.loc[gcd_2016_df['Count']==min_rob_num_2016]\n",
    "\n",
    "#2017 Robbery\n",
    "rob_info_2017 = gcd_2017_df.loc[gcd_2017_df['Offense']=='Robbery']\n",
    "max_rob_num_2017 = rob_info_2017['Count'].max()\n",
    "min_rob_num_2017 = rob_info_2017['Count'].min()\n",
    "max_rob_week_2017 = gcd_2017_df.loc[gcd_2017_df['Count']==max_rob_num_2017]\n",
    "min_rob_week_2017 = gcd_2017_df.loc[gcd_2017_df['Count']==min_rob_num_2017]\n",
    "\n",
    "#2018 Robbery\n",
    "rob_info_2018 = gcd_2018_df.loc[gcd_2018_df['Offense']=='Robbery']\n",
    "max_rob_num_2018 = rob_info_2018['Count'].max()\n",
    "min_rob_num_2018 = rob_info_2018['Count'].min()\n",
    "max_rob_week_2018 = gcd_2018_df.loc[gcd_2018_df['Count']==max_rob_num_2018]\n",
    "min_rob_week_2018 = gcd_2018_df.loc[gcd_2018_df['Count']==min_rob_num_2018]\n",
    "\n",
    "max_rob_week_2016"
   ]
  },
  {
   "cell_type": "code",
   "execution_count": null,
   "metadata": {},
   "outputs": [],
   "source": [
    "#Murder records\n",
    "#2016 Murder\n",
    "murd_info_2016 = gcd_2016_df.loc[gcd_2016_df['Offense']=='Murder']\n",
    "max_murd_num_2016 = murd_info_2016['Count'].max()\n",
    "min_murd_num_2016 = murd_info_2016['Count'].min()\n",
    "max_murd_week_2016 = gcd_2016_df.loc[gcd_2016_df['Count']==max_murd_num_2016]\n",
    "min_murd_week_2016 = gcd_2016_df.loc[gcd_2016_df['Count']==min_murd_num_2016]\n",
    "\n",
    "#2017 Murder\n",
    "murd_info_2017 = gcd_2017_df.loc[gcd_2017_df['Offense']=='Murder']\n",
    "max_murd_num_2017 = murd_info_2017['Count'].max()\n",
    "min_murd_num_2017 = murd_info_2017['Count'].min()\n",
    "max_murd_week_2017 = gcd_2017_df.loc[gcd_2017_df['Count']==max_murd_num_2017]\n",
    "min_murd_week_2017 = gcd_2017_df.loc[gcd_2017_df['Count']==min_murd_num_2017]\n",
    "\n",
    "#2018 Murder\n",
    "murd_info_2018 = gcd_2018_df.loc[gcd_2018_df['Offense']=='Murder']\n",
    "max_murd_num_2018 = murd_info_2018['Count'].max()\n",
    "min_murd_num_2018 = murd_info_2018['Count'].min()\n",
    "max_murd_week_2018 = gcd_2018_df.loc[gcd_2018_df['Count']==max_murd_num_2018]\n",
    "min_murd_week_2018 = gcd_2018_df.loc[gcd_2018_df['Count']==min_murd_num_2018]\n",
    "\n",
    "#max_murd_week_2018"
   ]
  },
  {
   "cell_type": "code",
   "execution_count": null,
   "metadata": {},
   "outputs": [],
   "source": []
  },
  {
   "cell_type": "code",
   "execution_count": null,
   "metadata": {},
   "outputs": [],
   "source": []
  },
  {
   "cell_type": "code",
   "execution_count": 101,
   "metadata": {},
   "outputs": [],
   "source": [
    "#gcd_2016_df['Offense']=='Aggravated Assault'"
   ]
  },
  {
   "cell_type": "code",
   "execution_count": 102,
   "metadata": {},
   "outputs": [
    {
     "data": {
      "text/plain": [
       "(0.25, 26.75)"
      ]
     },
     "execution_count": 102,
     "metadata": {},
     "output_type": "execute_result"
    },
    {
     "data": {
      "image/png": "[encoded data removed]",
      "text/plain": [
       "<Figure size 1080x720 with 1 Axes>"
      ]
     },
     "metadata": {
      "needs_background": "light"
     },
     "output_type": "display_data"
    }
   ],
   "source": [
    "#plot for 2017\n",
    "plt.figure(figsize=(15,10))\n",
    "plt.bar(gcd_2017_df['Week #'], gcd_2017_df['Count'], label=gcd_2017_df['Offense']=='Agg Assault')\n",
    "plt.xlim(0.25, len(fh_crimedata_2017_df['Week #'].unique())+0.75)"
   ]
  },
  {
   "cell_type": "code",
   "execution_count": null,
   "metadata": {},
   "outputs": [],
   "source": [
    "#plot for 2016\n",
    "plt.figure(figsize=(15,10))\n",
    "plt.bar(gcd_2016_df['Week #'], gcd_2016_df['Count'], label=gcd_2016_df['Offense'])\n",
    "plt.xlim(0.25, len(fh_crimedata_2016_df['Week #'].unique())+0.75)"
   ]
  },
  {
   "cell_type": "code",
   "execution_count": 98,
   "metadata": {},
   "outputs": [],
   "source": [
    "#gcd_2016_df['Week #']"
   ]
  },
  {
   "cell_type": "code",
   "execution_count": null,
   "metadata": {},
   "outputs": [],
   "source": [
    "#plot for 2018\n",
    "plt.figure(figsize=(15,10))\n",
    "plt.bar(gcd_2018_df['Week #'], gcd_2018_df['Count'], label=gcd_2018_df['Offense'])\n",
    "plt.xlim(0.25, len(fh_crimedata_2018_df['Week #'].unique())+0.75)"
   ]
  },
  {
   "cell_type": "code",
   "execution_count": 174,
   "metadata": {},
   "outputs": [],
   "source": [
    "#agg_info_2018.head()"
   ]
  },
  {
   "cell_type": "code",
   "execution_count": null,
   "metadata": {},
   "outputs": [],
   "source": []
  },
  {
   "cell_type": "code",
   "execution_count": 133,
   "metadata": {},
   "outputs": [
    {
     "data": {
      "text/plain": [
       "<matplotlib.legend.Legend at 0x1fa93f5dcf8>"
      ]
     },
     "execution_count": 133,
     "metadata": {},
     "output_type": "execute_result"
    },
    {
     "data": {
      "image/png": "[encoded data removed]",
      "text/plain": [
       "<Figure size 1440x720 with 1 Axes>"
      ]
     },
     "metadata": {
      "needs_background": "light"
     },
     "output_type": "display_data"
    }
   ],
   "source": [
    "#gcd_2017_df\n",
    "\n",
    "plt.figure(figsize=[20, 10])\n",
    "#x_axis = np.arange(364)\n",
    "for offense in gcd_2017_df['Offense'].unique():\n",
    "    plt.plot(np.arange(len(gcd_2017_df[gcd_2017_df['Offense'] == offense]['Count'])), \n",
    "             gcd_2017_df[gcd_2017_df['Offense'] == offense]['Count'], marker='o', label=offense)\n",
    "    #x_axis = x_axis + 0.1\n",
    "#plt.xticks(np.arange(12), ['Jan', 'Feb', 'Mar', 'Apr', 'May', 'Jun', 'Jul', 'Aug', 'Sep', 'Oct', 'Nov', 'Dec'])\n",
    "#plt.xlim(0, len(gcd_2017_df['Week #'].unique())+1.75)\n",
    "plt.yscale('log')\n",
    "plt.legend()"
   ]
  },
  {
   "cell_type": "code",
   "execution_count": null,
   "metadata": {
    "scrolled": true
   },
   "outputs": [],
   "source": [
    "\n",
    "#months = ['Jan', 'Feb', 'Mar', 'Apr', 'May', 'Jun', 'Jul', 'Aug', 'Sep', 'Oct', 'Nov', 'Dec']\n",
    "#plt.plot(months, gcd_2017_df.iloc[4:9]#,\"District\"])\n",
    "\n",
    "#plt.show()\n",
    "\n",
    "#group_crime_2017[\"Offense\"].count().plot.line()"
   ]
  },
  {
   "cell_type": "code",
   "execution_count": null,
   "metadata": {},
   "outputs": [],
   "source": [
    "#gcd_2017_df[gcd_2017_df['Offense'] == 'Robbery']['Count']"
   ]
  },
  {
   "cell_type": "code",
   "execution_count": null,
   "metadata": {},
   "outputs": [],
   "source": []
  }
 ],
 "metadata": {
  "kernelspec": {
   "display_name": "Python 3",
   "language": "python",
   "name": "python3"
  },
  "language_info": {
   "codemirror_mode": {
    "name": "ipython",
    "version": 3
   },
   "file_extension": ".py",
   "mimetype": "text/x-python",
   "name": "python",
   "nbconvert_exporter": "python",
   "pygments_lexer": "ipython3",
   "version": "3.7.3"
  }
 },
 "nbformat": 4,
 "nbformat_minor": 2
}
